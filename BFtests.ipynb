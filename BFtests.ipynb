{
 "cells": [
  {
   "cell_type": "code",
   "execution_count": 1,
   "metadata": {},
   "outputs": [],
   "source": [
    "import bfCompiler"
   ]
  },
  {
   "cell_type": "code",
   "execution_count": 2,
   "metadata": {},
   "outputs": [],
   "source": [
    "bfAdd = \",>++++++[<-------->-],[<+>-]<.\"\n",
    "bfAddInput = '43'"
   ]
  },
  {
   "cell_type": "code",
   "execution_count": 3,
   "metadata": {},
   "outputs": [],
   "source": [
    "bfHelloWorld = \"\"\"++++++++++\n",
    "[\n",
    ">+++++++>++++++++++>+++>+<<<<-\n",
    "] \n",
    ">++.               print 'H'\n",
    ">+.                print 'e'\n",
    "+++++++.           print 'l'\n",
    ".                  print 'l'\n",
    "+++.               print 'o'\n",
    ">++.               space\n",
    "<<+++++++++++++++. print 'W'\n",
    ">.                 print 'o'\n",
    "+++.               print 'r'\n",
    "------.            print 'l'\n",
    "--------.          print 'd'\n",
    ">+.                print '!'\n",
    ">.                 new line\"\"\""
   ]
  },
  {
   "cell_type": "code",
   "execution_count": 4,
   "metadata": {
    "scrolled": true
   },
   "outputs": [
    {
     "name": "stdout",
     "output_type": "stream",
     "text": [
      "('7', 340, 0)\n"
     ]
    }
   ],
   "source": [
    "b = bfCompiler.BF(bfAdd, bfAddInput)\n",
    "print b"
   ]
  },
  {
   "cell_type": "code",
   "execution_count": 5,
   "metadata": {},
   "outputs": [
    {
     "data": {
      "text/plain": [
       "('Hello World!\\n', 390, 0)"
      ]
     },
     "execution_count": 5,
     "metadata": {},
     "output_type": "execute_result"
    }
   ],
   "source": [
    "bfCompiler.BF(bfHelloWorld)"
   ]
  },
  {
   "cell_type": "code",
   "execution_count": 7,
   "metadata": {},
   "outputs": [],
   "source": [
    "bfAddUnmatchedBraces = \",>++++++[<-------->-],[<+>-]<.]][[[\""
   ]
  },
  {
   "cell_type": "code",
   "execution_count": 8,
   "metadata": {
    "scrolled": false
   },
   "outputs": [
    {
     "data": {
      "text/plain": [
       "('7', 340, 5)"
      ]
     },
     "execution_count": 8,
     "metadata": {},
     "output_type": "execute_result"
    }
   ],
   "source": [
    "bfCompiler.BF(bfAddUnmatchedBraces, bfAddInput)"
   ]
  }
 ],
 "metadata": {
  "kernelspec": {
   "display_name": "Python 2",
   "language": "python",
   "name": "python2"
  },
  "language_info": {
   "codemirror_mode": {
    "name": "ipython",
    "version": 2
   },
   "file_extension": ".py",
   "mimetype": "text/x-python",
   "name": "python",
   "nbconvert_exporter": "python",
   "pygments_lexer": "ipython2",
   "version": "2.7.13"
  }
 },
 "nbformat": 4,
 "nbformat_minor": 2
}
