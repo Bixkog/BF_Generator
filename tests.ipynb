{
 "cells": [
  {
   "cell_type": "code",
   "execution_count": 1,
   "metadata": {},
   "outputs": [],
   "source": [
    "import numpy as np\n",
    "import torch\n",
    "import torch.nn as nn\n",
    "from torch.autograd import Variable\n",
    "\n",
    "import rnn\n",
    "import train\n",
    "import brainfuck"
   ]
  },
  {
   "cell_type": "code",
   "execution_count": null,
   "metadata": {},
   "outputs": [],
   "source": []
  },
  {
   "cell_type": "code",
   "execution_count": 2,
   "metadata": {},
   "outputs": [],
   "source": [
    "embedding_size = 10\n",
    "hidden_size = 35\n",
    "output_size = len(rnn.char.keys())\n",
    "n_layers = 2\n",
    "batch_size = 64\n",
    "GAMMA = 0.99 # for exponential moving avarage constant from paper\n",
    "\n",
    "\n"
   ]
  },
  {
   "cell_type": "code",
   "execution_count": 3,
   "metadata": {},
   "outputs": [
    {
     "name": "stdout",
     "output_type": "stream",
     "text": [
      "9\n"
     ]
    }
   ],
   "source": [
    "print(rnn.token_num)"
   ]
  },
  {
   "cell_type": "code",
   "execution_count": 4,
   "metadata": {},
   "outputs": [],
   "source": [
    "model = rnn.BFgen(rnn.token_num, embedding_size, hidden_size, output_size, n_layers, batch_size)"
   ]
  },
  {
   "cell_type": "code",
   "execution_count": 5,
   "metadata": {},
   "outputs": [
    {
     "name": "stdout",
     "output_type": "stream",
     "text": [
      "(Variable containing:\n",
      "-13132.6582\n",
      "[torch.FloatTensor of size 1]\n",
      ", Variable containing:\n",
      " 13271.8125\n",
      "[torch.FloatTensor of size 1]\n",
      ")\n"
     ]
    }
   ],
   "source": [
    "print(train.objective_PG(model, lambda x : np.array([1] * model.batch_size)), model.entropy)"
   ]
  },
  {
   "cell_type": "code",
   "execution_count": null,
   "metadata": {},
   "outputs": [],
   "source": []
  },
  {
   "cell_type": "code",
   "execution_count": 6,
   "metadata": {},
   "outputs": [
    {
     "name": "stdout",
     "output_type": "stream",
     "text": [
      "Variable containing:\n",
      "-207.3018\n",
      "[torch.FloatTensor of size 1]\n",
      "\n"
     ]
    }
   ],
   "source": [
    "print(train.objective_PQT(model))"
   ]
  },
  {
   "cell_type": "code",
   "execution_count": 7,
   "metadata": {},
   "outputs": [
    {
     "name": "stdout",
     "output_type": "stream",
     "text": [
      "['[--<<[<>].->.-+]+[>->...[],[,.>-->->]<.<<,<[>,+>+..[]].[[-><<-[<>][-],>->-[[+,]+-.[+>.-+]]<.]><,.<,]'\n",
      " '>],,[][]-[<-]<.[].,>+,[>,--[<>[]>].<>+-<+>-<++]+>..-]><]>>,-+.[,]..,->,<,,<.>.>].<<<,+,]+,,+.>.,],<['\n",
      " '>.].]]-[<<-><[<<.--[<.<,[[+,<><<]>[++>]+]-<.><+<.].<,<[,[+].].<[>.]<>--.+,]<,.[[-,,>]-]],>],<,+,,<]]'\n",
      " ']>.><,<<].[--+.,,-><>]>-[.>.,.,>>]-+<+<>[],.+-[<>[<.++>++<]+[..[>.--]<.+<[[+[.<[-<,-<]-<<]>-]>>,.->-'\n",
      " '+-.+<]]<]-..+,]][>-<]<,.<]--],>]>]<,--<,--<,,.[.+->]<+[][-]+>+-..],>+]<[<-,,[,[-+[-].>.,>>->[]+<,,-.'\n",
      " '].><-.>]<[,..,-<[>]+[>,,-],->+,><>],<<--[]+]->-.-.[]+[.>.[[<[,[<>.,],>>,[,---][[],+,<]].]],[<<],,]]<'\n",
      " '+.+<][,.-.[+.-.[]<]+,-[+-[+,<]<]]->[+.>],,,++]],+<[[,[.,,,>-<<>.-<>].[-.,,>>.<[->+,-[.+>][.<->,<<<<<'\n",
      " ',<<+].[>><--].].[>],]>[+<-<]>]<],>+<+[+>][<,><-+]<>,,>,].-,>-]-.+>+<-<-,.->--].>.>..[]-]>.[>]]+],..<'\n",
      " ']][>,..>][<,,]][>.,,<.>,+><>].<,,-,.].,[[+[][]--,<[+]+.].]]]<<[+,+[,<[+-<[-].>.>[<[+[.,.-<.]>[]<<<[-'\n",
      " '+>[[]],<<++-+[,,+,-+<>.]..].[,+-+],],>,>.[[]+.[,<]<><.]<+>>[<,],,,-<<].],,+,-.+]-<-]+,,<>-<<+]<-><]-']\n"
     ]
    }
   ],
   "source": [
    "print(model.pqt_programs)"
   ]
  },
  {
   "cell_type": "code",
   "execution_count": 8,
   "metadata": {},
   "outputs": [],
   "source": [
    "bfAdd = \",>++++++[<-------->-],[<+>-]<++++++++.\"\n",
    "bfAdd2 = \",>++++++[<-------->-],[<+>-]<.\"\n",
    "bfAdd3 = \",>++++++[<-------->-],[<+>-]<++...\"\n",
    "bfAdd4 = \",>++++++[<-------->-],[<+>-]<+++............\"\n",
    "addBatch = [bfAdd, bfAdd2, bfAdd3, bfAdd4]\n",
    "bfAddIn = ['11', '12', '23']\n",
    "bfAddOut = ['2','3','5']"
   ]
  },
  {
   "cell_type": "code",
   "execution_count": 9,
   "metadata": {},
   "outputs": [],
   "source": [
    "reward = train.batch_reward(bfAddIn, bfAddOut)"
   ]
  },
  {
   "cell_type": "code",
   "execution_count": 10,
   "metadata": {},
   "outputs": [
    {
     "data": {
      "text/plain": [
       "array([  74.4,   76.8,  -77.4, -768.9])"
      ]
     },
     "execution_count": 10,
     "metadata": {},
     "output_type": "execute_result"
    }
   ],
   "source": [
    "reward(addBatch)"
   ]
  },
  {
   "cell_type": "code",
   "execution_count": null,
   "metadata": {},
   "outputs": [],
   "source": [
    "reverse_in = [\"a\", \"ab\", \"abc\", \"abcd\", \"abcde\"]\n",
    "reverse_out = [\"a\", \"ba\", \"cba\", \"dcba\", \"edcba\"]\n",
    "reverse_reward = train.batch_reward(reverse_in, reverse_out, scaling_factor=1./3840.)"
   ]
  },
  {
   "cell_type": "code",
   "execution_count": null,
   "metadata": {
    "scrolled": true
   },
   "outputs": [
    {
     "name": "stdout",
     "output_type": "stream",
     "text": [
      "Epoch Obj  Sample\n",
      "----- ----- ------\n",
      "Variable containing:\n",
      "1.00000e+05 *\n",
      "  1.5128\n",
      "[torch.FloatTensor of size 1]\n",
      "\n",
      "Variable containing:\n",
      "-207.6071\n",
      "[torch.FloatTensor of size 1]\n",
      "\n",
      "Variable containing:\n",
      " 206.8118\n",
      "[torch.FloatTensor of size 1]\n",
      "\n",
      "-0.10535826009114593\n",
      "pqt [('<+-,..>+<.>>.[..<+,,[-,+>>..,,--<.[+]-]<,>+.,][<>+.-].-[-+[->]+,+>,,.<]<.+,[.><+<>->,<>++,][<.]++<][', -5.179166666666666), ('[<],>><[<]],[[+]+[-<+><<-+,].[,,<[.]<]]->[[.[+,+,><.[><++>,[<]-[,>[<[+[.,].<>>,+-]>[>--..+>>[><>-[.,', -3.0729166666666665), ('.++>.<+]<+><+>-.,],,.],+.-++,,<]],>-].-+].+<]>].[>.>-><->[<]<>,..].,+[++.-+[-+--<<,+>.>.[>-+-<[>-]>,', -3.0729166666666665), ('],.,<-+---,[<[->>,.]>.,>,.,<<>-<[+>>]>]>>>.<[],>>.[>->>]+<[<,.+-<,->..,<-,,-[++<.>..[>]..<>+][<]-,+]', -2.295052083333333), ('.],],,>>,+.]+>->[,<[-----+,++[,-,[]>+->-[+]>>+][]-[-]]],<>-,<+>[.-.-<,,>,<.>,,<].-,]-[,,><]+,+>]+].>', 0.0), ('<>.->[[[,.<,][..+<<..]+,][.+>.[-+>]]<[,+.[<.++[[[.>][.-,.],->>>[-,[++]+]]++,<]--++,[[[+,+><,-.>+[,<>', 0.0), ('[.>,>,.[-]][-.<+][->,].<.[<][-].-><][+.]+],+,-,,+]>]..>..<<[[,>+.>+.[<-,,>.+,->.[->]>,<++++.++>,<<,]', 0.0), ('..<+-+>.+,+<+--,<-]>,.<.+<.>+-]]].].].]<.++.,<.,+.].<>.<<]<.+..].+>.-->.[>.+.[>]<[.>-><--.-.>+.,[,]-', 0.0), (',.+<>++],-[,,,.->[][,,[.++>+<+-[[,<-..]]][>+-,>[].[,>[>][[>,+<[<-[-[<<>]++,+-.>-.]<,+<].]++,[.]++[-+', 0.41354166666666664), ('],+<+,.,.>.,]<,>>.<+..,]>+<-,.[>-->.[+-,>>--[+<><]+-+]-+]<+.,+[,<[]>].,..>+>>++.-.,[->-+>.-],--..+]+', 0.46458333333333335)]\n",
      "   0  140899.125 <+-,..>+<.>>.[..<+,,[-,+>>..,,--<.[+]-]<,>+.,][<>+.-].-[-+[->]+,+>,,.<]<.+,[.><+<>->,<>++,][<.]++<][\n"
     ]
    }
   ],
   "source": [
    "model.clear_pq()\n",
    "model.init_weights()\n",
    "train.train_pqt_pg(model, reverse_reward, NPE=1000000)"
   ]
  },
  {
   "cell_type": "code",
   "execution_count": null,
   "metadata": {},
   "outputs": [],
   "source": [
    "import bfCompiler\n",
    "brainfuck.BF(\",[>,]+[,<.]\", \"abcd\")\n",
    "reverse_reward([\",[>,]+[,<.]\"])"
   ]
  },
  {
   "cell_type": "code",
   "execution_count": null,
   "metadata": {},
   "outputs": [],
   "source": [
    "expected_code = \"><.><\"\n",
    "program_batch_code = [\".....\", \"..<..\", \"[][][][][[][[][][][][][][]]]\", \"]\"]"
   ]
  },
  {
   "cell_type": "code",
   "execution_count": null,
   "metadata": {},
   "outputs": [],
   "source": [
    "simple_rew = train.simplified_batch_reward(expected_code)"
   ]
  },
  {
   "cell_type": "code",
   "execution_count": null,
   "metadata": {},
   "outputs": [],
   "source": [
    "simple_rew(program_batch_code)"
   ]
  },
  {
   "cell_type": "code",
   "execution_count": null,
   "metadata": {},
   "outputs": [],
   "source": [
    "training_expected_code = \">>>..\" * 20\n",
    "print len(training_expected_code),training_expected_code"
   ]
  },
  {
   "cell_type": "code",
   "execution_count": null,
   "metadata": {},
   "outputs": [],
   "source": [
    "training_rew = train.simplified_batch_reward(training_expected_code)\n",
    "training_rew(program_batch_code)"
   ]
  },
  {
   "cell_type": "code",
   "execution_count": null,
   "metadata": {},
   "outputs": [],
   "source": [
    "def ultra_simple_rew(expected_code):\n",
    "    def hamming_distance(seq1, seq2):\n",
    "        assert len(seq1) == len(seq2)\n",
    "        return sum(elem1 != elem2 for elem1, elem2 in zip(seq1, seq2))\n",
    "    \n",
    "    code_len = float(len(expected_code))\n",
    "    def reward_code(generated_code_batch):\n",
    "        rewards = np.array(map(lambda x: 1 - 2*(hamming_distance(x, expected_code) / code_len), generated_code_batch))\n",
    "        return rewards\n",
    "    return reward_code\n",
    "\n",
    "from itertools import takewhile\n",
    "def prefix_rew(expected_code):\n",
    "    def common_prefix_len(seq1, seq2):\n",
    "        return len(list(takewhile(lambda (a, b): a == b, zip(seq1, seq2))))\n",
    "    \n",
    "    code_len = float(len(expected_code))\n",
    "    def reward_code(generated_code_batch):\n",
    "        rewards = np.array(map(lambda x: 2*(common_prefix_len(x, expected_code) / code_len) - 1, generated_code_batch))\n",
    "        return rewards\n",
    "    return reward_code"
   ]
  },
  {
   "cell_type": "code",
   "execution_count": null,
   "metadata": {},
   "outputs": [],
   "source": [
    "simple_rew = prefix_rew(training_expected_code)\n",
    "sample1 = \">\" * 100\n",
    "sample2 = \".\" * 100\n",
    "sample3 = \"[]\" * 50\n",
    "sample4 = \"[]><+-.,[]\"  * 10\n",
    "samples = [sample1, sample2, sample3, sample4]"
   ]
  },
  {
   "cell_type": "code",
   "execution_count": null,
   "metadata": {},
   "outputs": [],
   "source": [
    "simple_rew(samples)"
   ]
  },
  {
   "cell_type": "code",
   "execution_count": null,
   "metadata": {},
   "outputs": [],
   "source": [
    "model.clear_pq()\n",
    "model.init_weights()\n",
    "train.train_pqt_pg(model, simple_rew, exp_code=training_expected_code, NPE=10000000)"
   ]
  },
  {
   "cell_type": "code",
   "execution_count": null,
   "metadata": {},
   "outputs": [],
   "source": [
    "print(model.get_probs(training_expected_code))"
   ]
  },
  {
   "cell_type": "code",
   "execution_count": null,
   "metadata": {},
   "outputs": [],
   "source": [
    "print(model.sample())"
   ]
  },
  {
   "cell_type": "code",
   "execution_count": null,
   "metadata": {},
   "outputs": [],
   "source": []
  },
  {
   "cell_type": "code",
   "execution_count": null,
   "metadata": {},
   "outputs": [],
   "source": []
  }
 ],
 "metadata": {
  "kernelspec": {
   "display_name": "Python 2",
   "language": "python",
   "name": "python2"
  },
  "language_info": {
   "codemirror_mode": {
    "name": "ipython",
    "version": 2
   },
   "file_extension": ".py",
   "mimetype": "text/x-python",
   "name": "python",
   "nbconvert_exporter": "python",
   "pygments_lexer": "ipython2",
   "version": "2.7.12"
  }
 },
 "nbformat": 4,
 "nbformat_minor": 2
}
