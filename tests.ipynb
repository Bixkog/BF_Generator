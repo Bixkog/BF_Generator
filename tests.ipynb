{
 "cells": [
  {
   "cell_type": "code",
   "execution_count": 1,
   "metadata": {},
   "outputs": [],
   "source": [
    "import numpy as np\n",
    "import torch\n",
    "import torch.nn as nn\n",
    "from torch.autograd import Variable\n",
    "\n",
    "import rnn\n",
    "import train\n",
    "import brainfuck"
   ]
  },
  {
   "cell_type": "code",
   "execution_count": null,
   "metadata": {},
   "outputs": [],
   "source": []
  },
  {
   "cell_type": "code",
   "execution_count": 2,
   "metadata": {},
   "outputs": [],
   "source": [
    "embedding_size = 10\n",
    "hidden_size = 35\n",
    "output_size = len(rnn.char.keys())\n",
    "n_layers = 2\n",
    "batch_size = 64\n",
    "GAMMA = 0.99 # for exponential moving avarage constant from paper\n",
    "\n",
    "\n"
   ]
  },
  {
   "cell_type": "code",
   "execution_count": 3,
   "metadata": {},
   "outputs": [
    {
     "name": "stdout",
     "output_type": "stream",
     "text": [
      "9\n"
     ]
    }
   ],
   "source": [
    "print(rnn.token_num)"
   ]
  },
  {
   "cell_type": "code",
   "execution_count": 4,
   "metadata": {},
   "outputs": [],
   "source": [
    "model = rnn.BFgen(rnn.token_num, embedding_size, hidden_size, output_size, n_layers, batch_size)"
   ]
  },
  {
   "cell_type": "code",
   "execution_count": 5,
   "metadata": {},
   "outputs": [
    {
     "name": "stdout",
     "output_type": "stream",
     "text": [
      "(Variable containing:\n",
      "-133.2986\n",
      "[torch.FloatTensor of size 1]\n",
      ", Variable containing:\n",
      " 13287.1973\n",
      "[torch.FloatTensor of size 1]\n",
      ")\n"
     ]
    }
   ],
   "source": [
    "print(train.objective_PG(model, lambda x : np.array([1] * model.batch_size)), model.entropy)"
   ]
  },
  {
   "cell_type": "code",
   "execution_count": 6,
   "metadata": {},
   "outputs": [
    {
     "name": "stdout",
     "output_type": "stream",
     "text": [
      "Variable containing:\n",
      "-208.4926\n",
      "[torch.FloatTensor of size 1]\n",
      "\n"
     ]
    }
   ],
   "source": [
    "print(train.objective_PQT(model))"
   ]
  },
  {
   "cell_type": "code",
   "execution_count": 7,
   "metadata": {},
   "outputs": [
    {
     "name": "stdout",
     "output_type": "stream",
     "text": [
      "['.][--<][.>>.[][+]>,,-->[.+>.<->>>+>+-]][][[,..[->,+]+]<]]][]<>[-,-,,-++..><<]>.-]+-[<,>-[]>,[+.+><[<'\n",
      " '-+>,][<<<+<[[],]+,.<<>-++,>,.,,[.,+,-<<++<>.[>>[>]+]<[--]>-]+++],[>--]]<><[<>]-.]>[[>-..-,<+<]<<>[[+'\n",
      " '>+->+[.+>,<.<[+[]<.>,.[..[.[,[.,[.<]>,.]-],]<[<.[>>-[,,<+.+>[+<.[[>><[],]-].],[,--[-+],<,><]>+[>++-['\n",
      " '<-[><<<+,+[+.>++,+->+.<]+[+.[--[,<.--.-,++]<.<++-<]],.-<[->[.>>,-[].><[+<,-[>[.]-]+<.],>.]>.>+>-[].+'\n",
      " '>>,][>>]]..,[-,<-.,[..[>.+>.[],><<,->,[.,]][.,[+>,,-[[>>-[-<<-,,>]<<]->].+[>>--[>-]>+.<]<[.[+-][<]-['\n",
      " '--->.+..<<<,,<<<<+,-,[->.]+-+++><-<++]],-.>+.,,>.,[[,]>[-,.>]<].[.++<][.-[-]<].<,+[+,-]<.<>,]<>>.-<<'\n",
      " ',>.,],][[[+]][..+-[>+-..>[,-.[,[>-[>.[-]-.,[.[<>-[>.-[.][][-<+->[[<[]>->+-,.>-..[,->]]>-[>,.[>+-[>]-'\n",
      " '.+-]>,++[][,.,<,++>,],-.<,,<->,+.+]<>,],>[+,[-<,.-.-[[+->+,>,[]>><.>,]>>-<-[,,[,>[..<[->.<.->]>><-++'\n",
      " '<<]<>[+<,<.>].>+[].,,>..]+,<<<.]..[[+<+[,-+]>+--.[--]+.][]]],].-><.+++<,].-><+-],>]+>><<-.->><-][-]]'\n",
      " '[<+<,+,>>,<,,++<.+..<<,>,[<,,>-+,-,[+[+<+-,.-+[.],<-<-.+-.[.]<-+.<[<<>]-<[+[]-]<,]--+<+]-[,]-.[]>[-.']\n"
     ]
    }
   ],
   "source": [
    "print(model.pqt_programs)"
   ]
  },
  {
   "cell_type": "code",
   "execution_count": 8,
   "metadata": {},
   "outputs": [],
   "source": [
    "bfAdd = \",>++++++[<-------->-],[<+>-]<++++++++.\"\n",
    "bfAdd2 = \",>++++++[<-------->-],[<+>-]<.\"\n",
    "bfAdd3 = \",>++++++[<-------->-],[<+>-]<++...\"\n",
    "bfAdd4 = \",>++++++[<-------->-],[<+>-]<+++............\"\n",
    "addBatch = [bfAdd, bfAdd2, bfAdd3, bfAdd4]\n",
    "bfAddIn = ['11', '12', '23']\n",
    "bfAddOut = ['2','3','5']"
   ]
  },
  {
   "cell_type": "code",
   "execution_count": 9,
   "metadata": {},
   "outputs": [],
   "source": [
    "reward = train.batch_reward(bfAddIn, bfAddOut)"
   ]
  },
  {
   "cell_type": "code",
   "execution_count": 10,
   "metadata": {},
   "outputs": [
    {
     "data": {
      "text/plain": [
       "array([  76.5,   76.8,  -77.1, -768.3])"
      ]
     },
     "execution_count": 10,
     "metadata": {},
     "output_type": "execute_result"
    }
   ],
   "source": [
    "reward(addBatch)"
   ]
  },
  {
   "cell_type": "code",
   "execution_count": 11,
   "metadata": {},
   "outputs": [],
   "source": [
    "reverse_in = [\"a\", \"ab\", \"abc\", \"abcd\", \"abcde\"]\n",
    "reverse_out = [\"a\", \"ba\", \"cba\", \"dcba\", \"edcba\"]\n",
    "reverse_reward = train.batch_reward(reverse_in, reverse_out, scaling_factor=1./3840.)"
   ]
  },
  {
   "cell_type": "code",
   "execution_count": 12,
   "metadata": {
    "scrolled": true
   },
   "outputs": [
    {
     "name": "stdout",
     "output_type": "stream",
     "text": [
      "Epoch Obj  Sample\n",
      "----- ----- ------\n",
      "Variable containing:\n",
      " 1540.5519\n",
      "[torch.FloatTensor of size 1]\n",
      "\n",
      "Variable containing:\n",
      "-208.0899\n",
      "[torch.FloatTensor of size 1]\n",
      "\n",
      "Variable containing:\n",
      " 207.6124\n",
      "[torch.FloatTensor of size 1]\n",
      "\n",
      "-10.451369897460937\n",
      "pqt [('[[<<<<.<+--]>][.-]]+,,]-.<,<>]<]+]+<<.]>,[<[<>.,..[<+<-,+-+><+->>.+-][+>,[-[>>-+,.[.,>]-,<.-]-.<++-,', -2.0703125), ('<><,[-++-[-[>+[.[-+.<+[----.-[[.>>[,>-,.,+><[]<,<>,++-+<<>++,,>><>],,-.+.,.[+.>.-+][+][<-],+,[.-,,<<', -0.13723958333333333), ('<+>[>>-[+,>-[<]][+--]-<,-]-]<,[[,]].+.[[[-<[>.[-..[,]]--[<+-]..+>-,<>,<<-+<+[[.],,+<>+.[<-..-]]<-]<,', 0.0), ('.>-.<[+.+,.>.>[]>>>+,[-,.<]-.<,-,][-,,>+.[>]<..-<].++++,-->--<>-<<.>+>>+,,><[+>.+[-][<>[]].<>-..-++.', 0.0), ('<]>.]-]..[,[-,++><-,-<,-.<>.>>>>.-+-.+.,+<>->><,,+>.+>-+>.[-,,+]+[.[+,[<[>[+<[<,-]->.-+>>>>.--+-<[[,', 0.0), ('>-,]<.]-[,<<[.>->[-+[.-[<-]>.<-<-+][>-[+].+>>-]+[->[>[>>,-]<<,,.-[<]>]>->-]].[..[]<+.[>[+,-]>,-[-+[<', 0.0), ('-]..-[>],+]],>++->+<+.,.-,-<.,.+.--.<].+],+]]->+-[,--[,<-][,<>+.>-<<+.-[-<+][.<+-.-+-+.[,,][,->-.->[', 0.06276041666666667), (']>]>>[<<+>.[,+[]<.<>,-.-,,+->[+..],[,.[[+,>+.>,<[>].->]]>][[,<+[<]<>,,.,].<.,>.-+,].].-]-,,.->[],+,+', 0.26588541666666665), ('+,.+,-..,-,],,+>>>]->,].->-.-,->,>[+--,[-[,.,[]><,.][+].],[-+,]>+,[,]<>,,++,--+.]->+<<>><.]>-+[><[+<', 0.396875), ('-+[,-><<<.+.,+<-,><+-..]-<..+.>>[[<[-<+-.]-]+>+.+>-.]-,+>]][>]+]..><->][,[>,..<,<[[]][[++<>-],+..+--', 0.5309895833333333)]\n",
      "   0  -8861.868 [[<<<<.<+--]>][.-]]+,,]-.<,<>]<]+]+<<.]>,[<[<>.,..[<+<-,+-+><+->>.+-][+>,[-[>>-+,.[.,>]-,<.-]-.<++-,\n"
     ]
    },
    {
     "ename": "KeyboardInterrupt",
     "evalue": "",
     "output_type": "error",
     "traceback": [
      "\u001b[0;31m---------------------------------------------------------------------------\u001b[0m",
      "\u001b[0;31mKeyboardInterrupt\u001b[0m                         Traceback (most recent call last)",
      "\u001b[0;32m<ipython-input-12-349d215d588d>\u001b[0m in \u001b[0;36m<module>\u001b[0;34m()\u001b[0m\n\u001b[1;32m      1\u001b[0m \u001b[0mmodel\u001b[0m\u001b[0;34m.\u001b[0m\u001b[0mclear_pq\u001b[0m\u001b[0;34m(\u001b[0m\u001b[0;34m)\u001b[0m\u001b[0;34m\u001b[0m\u001b[0m\n\u001b[0;32m----> 2\u001b[0;31m \u001b[0mtrain\u001b[0m\u001b[0;34m.\u001b[0m\u001b[0mtrain_pqt_pg\u001b[0m\u001b[0;34m(\u001b[0m\u001b[0mmodel\u001b[0m\u001b[0;34m,\u001b[0m \u001b[0mreverse_reward\u001b[0m\u001b[0;34m,\u001b[0m \u001b[0mNPE\u001b[0m\u001b[0;34m=\u001b[0m\u001b[0;36m1000000\u001b[0m\u001b[0;34m)\u001b[0m\u001b[0;34m\u001b[0m\u001b[0m\n\u001b[0m",
      "\u001b[0;32m/home/wojtek/SN/projekt/BF_Generator/train.pyc\u001b[0m in \u001b[0;36mtrain_pqt_pg\u001b[0;34m(model, reward_f, NPE, seq_len, clip_grad_norm)\u001b[0m\n\u001b[1;32m    136\u001b[0m     \u001b[0;32mfor\u001b[0m \u001b[0mi\u001b[0m \u001b[0;32min\u001b[0m \u001b[0mxrange\u001b[0m\u001b[0;34m(\u001b[0m\u001b[0mepoch_num\u001b[0m\u001b[0;34m)\u001b[0m\u001b[0;34m:\u001b[0m\u001b[0;34m\u001b[0m\u001b[0m\n\u001b[1;32m    137\u001b[0m         \u001b[0mmodel\u001b[0m\u001b[0;34m.\u001b[0m\u001b[0mzero_grad\u001b[0m\u001b[0;34m(\u001b[0m\u001b[0;34m)\u001b[0m\u001b[0;34m\u001b[0m\u001b[0m\n\u001b[0;32m--> 138\u001b[0;31m         \u001b[0mPG_objective\u001b[0m \u001b[0;34m=\u001b[0m \u001b[0mobjective_PG\u001b[0m\u001b[0;34m(\u001b[0m\u001b[0mmodel\u001b[0m\u001b[0;34m,\u001b[0m \u001b[0mreward_f\u001b[0m\u001b[0;34m,\u001b[0m \u001b[0mseq_len\u001b[0m\u001b[0;34m)\u001b[0m\u001b[0;34m\u001b[0m\u001b[0m\n\u001b[0m\u001b[1;32m    139\u001b[0m         \u001b[0mPQT_objective\u001b[0m \u001b[0;34m=\u001b[0m \u001b[0mobjective_PQT\u001b[0m\u001b[0;34m(\u001b[0m\u001b[0mmodel\u001b[0m\u001b[0;34m)\u001b[0m\u001b[0;34m\u001b[0m\u001b[0m\n\u001b[1;32m    140\u001b[0m         \u001b[0mentropy\u001b[0m \u001b[0;34m=\u001b[0m \u001b[0mmodel\u001b[0m\u001b[0;34m.\u001b[0m\u001b[0mentropy\u001b[0m \u001b[0;34m/\u001b[0m \u001b[0mmodel\u001b[0m\u001b[0;34m.\u001b[0m\u001b[0mbatch_size\u001b[0m\u001b[0;34m\u001b[0m\u001b[0m\n",
      "\u001b[0;32m/home/wojtek/SN/projekt/BF_Generator/train.pyc\u001b[0m in \u001b[0;36mobjective_PG\u001b[0;34m(model, reward_f, predict_len)\u001b[0m\n\u001b[1;32m     87\u001b[0m         \u001b[0;31m# save chars\u001b[0m\u001b[0;34m\u001b[0m\u001b[0;34m\u001b[0m\u001b[0m\n\u001b[1;32m     88\u001b[0m         \u001b[0;32mfor\u001b[0m \u001b[0mj\u001b[0m \u001b[0;32min\u001b[0m \u001b[0mxrange\u001b[0m\u001b[0;34m(\u001b[0m\u001b[0mmodel\u001b[0m\u001b[0;34m.\u001b[0m\u001b[0mbatch_size\u001b[0m\u001b[0;34m)\u001b[0m\u001b[0;34m:\u001b[0m\u001b[0;34m\u001b[0m\u001b[0m\n\u001b[0;32m---> 89\u001b[0;31m             \u001b[0mprediction\u001b[0m\u001b[0;34m[\u001b[0m\u001b[0mj\u001b[0m\u001b[0;34m]\u001b[0m \u001b[0;34m+=\u001b[0m \u001b[0mrnn\u001b[0m\u001b[0;34m.\u001b[0m\u001b[0mchar\u001b[0m\u001b[0;34m[\u001b[0m\u001b[0mnext_tokens\u001b[0m\u001b[0;34m[\u001b[0m\u001b[0mj\u001b[0m\u001b[0;34m]\u001b[0m\u001b[0;34m.\u001b[0m\u001b[0mdata\u001b[0m\u001b[0;34m[\u001b[0m\u001b[0;36m0\u001b[0m\u001b[0;34m]\u001b[0m\u001b[0;34m]\u001b[0m\u001b[0;34m\u001b[0m\u001b[0m\n\u001b[0m\u001b[1;32m     90\u001b[0m \u001b[0;34m\u001b[0m\u001b[0m\n\u001b[1;32m     91\u001b[0m     \u001b[0;31m# calculate rewards\u001b[0m\u001b[0;34m\u001b[0m\u001b[0;34m\u001b[0m\u001b[0m\n",
      "\u001b[0;32m/usr/local/lib/python2.7/dist-packages/torch/autograd/variable.pyc\u001b[0m in \u001b[0;36m__getitem__\u001b[0;34m(self, key)\u001b[0m\n\u001b[1;32m     76\u001b[0m                 \u001b[0;32mreturn\u001b[0m \u001b[0mIndexSelect\u001b[0m\u001b[0;34m.\u001b[0m\u001b[0mapply\u001b[0m\u001b[0;34m(\u001b[0m\u001b[0mself\u001b[0m\u001b[0;34m,\u001b[0m \u001b[0;36m0\u001b[0m\u001b[0;34m,\u001b[0m \u001b[0mkey\u001b[0m\u001b[0;34m)\u001b[0m\u001b[0;34m\u001b[0m\u001b[0m\n\u001b[1;32m     77\u001b[0m             \u001b[0;31m# else fall through and raise an error in Index\u001b[0m\u001b[0;34m\u001b[0m\u001b[0;34m\u001b[0m\u001b[0m\n\u001b[0;32m---> 78\u001b[0;31m         \u001b[0;32mreturn\u001b[0m \u001b[0mIndex\u001b[0m\u001b[0;34m.\u001b[0m\u001b[0mapply\u001b[0m\u001b[0;34m(\u001b[0m\u001b[0mself\u001b[0m\u001b[0;34m,\u001b[0m \u001b[0mkey\u001b[0m\u001b[0;34m)\u001b[0m\u001b[0;34m\u001b[0m\u001b[0m\n\u001b[0m\u001b[1;32m     79\u001b[0m \u001b[0;34m\u001b[0m\u001b[0m\n\u001b[1;32m     80\u001b[0m     \u001b[0;32mdef\u001b[0m \u001b[0m__setitem__\u001b[0m\u001b[0;34m(\u001b[0m\u001b[0mself\u001b[0m\u001b[0;34m,\u001b[0m \u001b[0mkey\u001b[0m\u001b[0;34m,\u001b[0m \u001b[0mvalue\u001b[0m\u001b[0;34m)\u001b[0m\u001b[0;34m:\u001b[0m\u001b[0;34m\u001b[0m\u001b[0m\n",
      "\u001b[0;32m/usr/local/lib/python2.7/dist-packages/torch/autograd/_functions/tensor.pyc\u001b[0m in \u001b[0;36mforward\u001b[0;34m(ctx, i, index)\u001b[0m\n\u001b[1;32m     77\u001b[0m             \u001b[0;32mraise\u001b[0m \u001b[0mValueError\u001b[0m\u001b[0;34m(\u001b[0m\u001b[0;34m'Unsupported index type {}'\u001b[0m\u001b[0;34m.\u001b[0m\u001b[0mformat\u001b[0m\u001b[0;34m(\u001b[0m\u001b[0mtype\u001b[0m\u001b[0;34m(\u001b[0m\u001b[0mindex\u001b[0m\u001b[0;34m)\u001b[0m\u001b[0;34m)\u001b[0m\u001b[0;34m)\u001b[0m\u001b[0;34m\u001b[0m\u001b[0m\n\u001b[1;32m     78\u001b[0m \u001b[0;34m\u001b[0m\u001b[0m\n\u001b[0;32m---> 79\u001b[0;31m     \u001b[0;34m@\u001b[0m\u001b[0mstaticmethod\u001b[0m\u001b[0;34m\u001b[0m\u001b[0m\n\u001b[0m\u001b[1;32m     80\u001b[0m     \u001b[0;32mdef\u001b[0m \u001b[0mforward\u001b[0m\u001b[0;34m(\u001b[0m\u001b[0mctx\u001b[0m\u001b[0;34m,\u001b[0m \u001b[0mi\u001b[0m\u001b[0;34m,\u001b[0m \u001b[0mindex\u001b[0m\u001b[0;34m)\u001b[0m\u001b[0;34m:\u001b[0m\u001b[0;34m\u001b[0m\u001b[0m\n\u001b[1;32m     81\u001b[0m         \u001b[0mctx\u001b[0m\u001b[0;34m.\u001b[0m\u001b[0minput_size\u001b[0m \u001b[0;34m=\u001b[0m \u001b[0mi\u001b[0m\u001b[0;34m.\u001b[0m\u001b[0msize\u001b[0m\u001b[0;34m(\u001b[0m\u001b[0;34m)\u001b[0m\u001b[0;34m\u001b[0m\u001b[0m\n",
      "\u001b[0;31mKeyboardInterrupt\u001b[0m: "
     ]
    }
   ],
   "source": [
    "model.clear_pq()\n",
    "train.train_pqt_pg(model, reverse_reward, NPE=1000000)"
   ]
  },
  {
   "cell_type": "code",
   "execution_count": 15,
   "metadata": {},
   "outputs": [
    {
     "data": {
      "text/plain": [
       "'\\xff\\xff'"
      ]
     },
     "execution_count": 15,
     "metadata": {},
     "output_type": "execute_result"
    }
   ],
   "source": [
    "import bfCompiler\n",
    "brainfuck.BF(\"-+[,-><<<.+.,+<-,><+-..]-<..+.>>[[<[-<+-.]-]+>+.+>-.]-,+>]][>]+]..><->][,[>,..<,<[[]][[++<>-],+..+--\", \"abc\")"
   ]
  },
  {
   "cell_type": "code",
   "execution_count": 16,
   "metadata": {},
   "outputs": [],
   "source": [
    "expected_code = \"><.><\"\n",
    "program_batch_code = [\".....\", \"..<..\", \"[][][][][[][[][][][][][][]]]\", \"]\"]"
   ]
  },
  {
   "cell_type": "code",
   "execution_count": 17,
   "metadata": {},
   "outputs": [],
   "source": [
    "simple_rew = train.simplified_batch_reward(expected_code)"
   ]
  },
  {
   "cell_type": "code",
   "execution_count": 18,
   "metadata": {},
   "outputs": [
    {
     "data": {
      "text/plain": [
       "array([ 0.996875  ,  0.99609375, -1.        ,  0.19921875])"
      ]
     },
     "execution_count": 18,
     "metadata": {},
     "output_type": "execute_result"
    }
   ],
   "source": [
    "simple_rew(program_batch_code)"
   ]
  },
  {
   "cell_type": "code",
   "execution_count": 19,
   "metadata": {},
   "outputs": [
    {
     "name": "stdout",
     "output_type": "stream",
     "text": [
      "100 >>>..>>>..>>>..>>>..>>>..>>>..>>>..>>>..>>>..>>>..>>>..>>>..>>>..>>>..>>>..>>>..>>>..>>>..>>>..>>>..\n"
     ]
    }
   ],
   "source": [
    "training_expected_code = \">>>..\" * 20\n",
    "print len(training_expected_code),training_expected_code"
   ]
  },
  {
   "cell_type": "code",
   "execution_count": 20,
   "metadata": {},
   "outputs": [
    {
     "data": {
      "text/plain": [
       "array([0.04988281, 0.04988281, 0.27890625, 0.00996094])"
      ]
     },
     "execution_count": 20,
     "metadata": {},
     "output_type": "execute_result"
    }
   ],
   "source": [
    "training_rew = train.simplified_batch_reward(training_expected_code)\n",
    "training_rew(program_batch_code)"
   ]
  },
  {
   "cell_type": "code",
   "execution_count": 21,
   "metadata": {},
   "outputs": [],
   "source": [
    "def ultra_simple_rew(expected_code):\n",
    "    def hamming_distance(seq1, seq2):\n",
    "        assert len(seq1) == len(seq2)\n",
    "        return sum(elem1 != elem2 for elem1, elem2 in zip(seq1, seq2))\n",
    "    \n",
    "    code_len = float(len(expected_code))\n",
    "    def reward_code(generated_code_batch):\n",
    "        rewards = np.array(map(lambda x: 1 - 2*(hamming_distance(x, expected_code) / code_len), generated_code_batch))\n",
    "        return rewards\n",
    "    return reward_code"
   ]
  },
  {
   "cell_type": "code",
   "execution_count": 22,
   "metadata": {},
   "outputs": [],
   "source": [
    "simple_rew = ultra_simple_rew(training_expected_code)\n",
    "sample1 = \">\" * 100\n",
    "sample2 = \".\" * 100\n",
    "sample3 = \"[]\" * 50\n",
    "sample4 = \"[]><+-.,[]\"  * 10\n",
    "samples = [sample1, sample2, sample3, sample4]"
   ]
  },
  {
   "cell_type": "code",
   "execution_count": 23,
   "metadata": {},
   "outputs": [
    {
     "data": {
      "text/plain": [
       "array([ 0.2, -0.2, -1. , -0.8])"
      ]
     },
     "execution_count": 23,
     "metadata": {},
     "output_type": "execute_result"
    }
   ],
   "source": [
    "simple_rew(samples)"
   ]
  },
  {
   "cell_type": "code",
   "execution_count": 24,
   "metadata": {},
   "outputs": [
    {
     "name": "stdout",
     "output_type": "stream",
     "text": [
      "Epoch Obj  Sample\n",
      "----- ----- ------\n",
      "Variable containing:\n",
      "-1419.2838\n",
      "[torch.FloatTensor of size 1]\n",
      "\n",
      "Variable containing:\n",
      "-208.7697\n",
      "[torch.FloatTensor of size 1]\n",
      "\n",
      "Variable containing:\n",
      " 206.2663\n",
      "[torch.FloatTensor of size 1]\n",
      "\n",
      "-0.864852556352991\n",
      "pqt [(']+].]]-<+[.->++>--,-,-<<-[]+.<+-+<+<<..>,>[-.,[-,,<<>[[-.<..-[+[[+>-,[+>>-.-.+[<,-..[+-]-,.<+]][].-,', -0.7), ('+[,-><>>.]++]+.].>[[..><,-<<[>.<],+<>>[,>]]]<>,-]<,>>---+<>,>]--],[,<<[+--.[,]<--[]<>[->[]+[[-<[[<,,', -0.7), ('-[-.]+.+->[,--+]->.,...<+<->+.>->]<+>]-[.+.<,[]..>+]+][<-<-]]<<+<-[+,--[].-[],>.<>++[>]>,+-<,+-+,[[.', -0.7), ('<>-,.[<.>,.><[+],]--<<-.-]+]><][,,+.-.+<.+-.>]>,..+>].--+]+-,[<>[[--.--++,....,,-+<+[,].,..+-][]+<..', -0.7), ('>+,<]+,-<,>[[>++<-+.<,,.,.].-<+.[.+.-[,>.,][.+[[.]>>[,[,[][-]+,..>[<-[+][,-[<[..<[]<]+]-[]<>[,-+,+<-', -0.7), ('..]>].+][-]+,[+-,]..>,<.<.->-][+,[>,[+>[-]<..<-.[]+,-][[<[>.>.<]-<<]-]+[][.>,<.->>>[][.>,[>..+<[[-<]', -0.6599999999999999), ('><,[]>.+>,[-+-[,],.<>.-[.+]+.]][[].+[-.<]>>,+>..+>,.+,[<<<.,+]-->--++><,-[.>+<<>+,+[+].].-.>.[]<->-,', -0.6599999999999999), ('[>>,-+-,]>>[,<<>>[,.<.,]+<[,+],+,+-[[.[>>.>-]].]>[-.>.>[+]-,,<..<[+],.]<[]]+>].,,<>+]<.>>.+,-[,-[.[]', -0.6599999999999999), (',>+,>>+[,,>,[.<],,+-<>,+.,>,[>.,,[><].-,>[++>+.>.-]-<+<,.>[,-<<,<-->,.]-.-<<,[,-+,-.[+-..>[+]+.->]<>', -0.6599999999999999), ('+<,>.<]..,[,[[][,<.[].,+>+[<]<,]+-<]<,-.<<<,[>-><[].-+-],]>,,].--[+>[->-]-,]]>,[>>-,>[+>..,>,-.><>>.', -0.6200000000000001)]\n",
      "   0  -11855.708 ]+].]]-<+[.->++>--,-,-<<-[]+.<+-+<+<<..>,>[-.,[-,,<<>[[-.<..-[+[[+>-,[+>>-.-.+[<,-..[+-]-,.<+]][].-,\n"
     ]
    },
    {
     "ename": "KeyboardInterrupt",
     "evalue": "",
     "output_type": "error",
     "traceback": [
      "\u001b[0;31m---------------------------------------------------------------------------\u001b[0m",
      "\u001b[0;31mKeyboardInterrupt\u001b[0m                         Traceback (most recent call last)",
      "\u001b[0;32m<ipython-input-24-3654c74c7e5d>\u001b[0m in \u001b[0;36m<module>\u001b[0;34m()\u001b[0m\n\u001b[1;32m      1\u001b[0m \u001b[0mmodel\u001b[0m\u001b[0;34m.\u001b[0m\u001b[0mclear_pq\u001b[0m\u001b[0;34m(\u001b[0m\u001b[0;34m)\u001b[0m\u001b[0;34m\u001b[0m\u001b[0m\n\u001b[1;32m      2\u001b[0m \u001b[0mmodel\u001b[0m\u001b[0;34m.\u001b[0m\u001b[0minit_weights\u001b[0m\u001b[0;34m(\u001b[0m\u001b[0;34m)\u001b[0m\u001b[0;34m\u001b[0m\u001b[0m\n\u001b[0;32m----> 3\u001b[0;31m \u001b[0mtrain\u001b[0m\u001b[0;34m.\u001b[0m\u001b[0mtrain_pqt_pg\u001b[0m\u001b[0;34m(\u001b[0m\u001b[0mmodel\u001b[0m\u001b[0;34m,\u001b[0m \u001b[0msimple_rew\u001b[0m\u001b[0;34m,\u001b[0m \u001b[0mNPE\u001b[0m\u001b[0;34m=\u001b[0m\u001b[0;36m1000000\u001b[0m\u001b[0;34m)\u001b[0m\u001b[0;34m\u001b[0m\u001b[0m\n\u001b[0m",
      "\u001b[0;32m/home/wojtek/SN/projekt/BF_Generator/train.pyc\u001b[0m in \u001b[0;36mtrain_pqt_pg\u001b[0;34m(model, reward_f, NPE, seq_len, clip_grad_norm)\u001b[0m\n\u001b[1;32m    143\u001b[0m                     \u001b[0mmodel\u001b[0m\u001b[0;34m.\u001b[0m\u001b[0mentropy_regularizer\u001b[0m \u001b[0;34m*\u001b[0m \u001b[0mentropy\u001b[0m\u001b[0;34m\u001b[0m\u001b[0m\n\u001b[1;32m    144\u001b[0m \u001b[0;34m\u001b[0m\u001b[0m\n\u001b[0;32m--> 145\u001b[0;31m         \u001b[0;34m(\u001b[0m\u001b[0;34m-\u001b[0m\u001b[0mobjective\u001b[0m\u001b[0;34m)\u001b[0m\u001b[0;34m.\u001b[0m\u001b[0mbackward\u001b[0m\u001b[0;34m(\u001b[0m\u001b[0;34m)\u001b[0m\u001b[0;34m\u001b[0m\u001b[0m\n\u001b[0m\u001b[1;32m    146\u001b[0m         \u001b[0mtorch\u001b[0m\u001b[0;34m.\u001b[0m\u001b[0mnn\u001b[0m\u001b[0;34m.\u001b[0m\u001b[0mutils\u001b[0m\u001b[0;34m.\u001b[0m\u001b[0mclip_grad_norm\u001b[0m\u001b[0;34m(\u001b[0m\u001b[0mmodel\u001b[0m\u001b[0;34m.\u001b[0m\u001b[0mparameters\u001b[0m\u001b[0;34m(\u001b[0m\u001b[0;34m)\u001b[0m\u001b[0;34m,\u001b[0m \u001b[0mclip_grad_norm\u001b[0m\u001b[0;34m)\u001b[0m\u001b[0;34m\u001b[0m\u001b[0m\n\u001b[1;32m    147\u001b[0m         \u001b[0moptimizer\u001b[0m\u001b[0;34m.\u001b[0m\u001b[0mstep\u001b[0m\u001b[0;34m(\u001b[0m\u001b[0;34m)\u001b[0m\u001b[0;34m\u001b[0m\u001b[0m\n",
      "\u001b[0;32m/usr/local/lib/python2.7/dist-packages/torch/autograd/variable.pyc\u001b[0m in \u001b[0;36mbackward\u001b[0;34m(self, gradient, retain_graph, create_graph, retain_variables)\u001b[0m\n\u001b[1;32m    165\u001b[0m                 \u001b[0mVariable\u001b[0m\u001b[0;34m.\u001b[0m\u001b[0;34m\u001b[0m\u001b[0m\n\u001b[1;32m    166\u001b[0m         \"\"\"\n\u001b[0;32m--> 167\u001b[0;31m         \u001b[0mtorch\u001b[0m\u001b[0;34m.\u001b[0m\u001b[0mautograd\u001b[0m\u001b[0;34m.\u001b[0m\u001b[0mbackward\u001b[0m\u001b[0;34m(\u001b[0m\u001b[0mself\u001b[0m\u001b[0;34m,\u001b[0m \u001b[0mgradient\u001b[0m\u001b[0;34m,\u001b[0m \u001b[0mretain_graph\u001b[0m\u001b[0;34m,\u001b[0m \u001b[0mcreate_graph\u001b[0m\u001b[0;34m,\u001b[0m \u001b[0mretain_variables\u001b[0m\u001b[0;34m)\u001b[0m\u001b[0;34m\u001b[0m\u001b[0m\n\u001b[0m\u001b[1;32m    168\u001b[0m \u001b[0;34m\u001b[0m\u001b[0m\n\u001b[1;32m    169\u001b[0m     \u001b[0;32mdef\u001b[0m \u001b[0mregister_hook\u001b[0m\u001b[0;34m(\u001b[0m\u001b[0mself\u001b[0m\u001b[0;34m,\u001b[0m \u001b[0mhook\u001b[0m\u001b[0;34m)\u001b[0m\u001b[0;34m:\u001b[0m\u001b[0;34m\u001b[0m\u001b[0m\n",
      "\u001b[0;32m/usr/local/lib/python2.7/dist-packages/torch/autograd/__init__.pyc\u001b[0m in \u001b[0;36mbackward\u001b[0;34m(variables, grad_variables, retain_graph, create_graph, retain_variables)\u001b[0m\n\u001b[1;32m     97\u001b[0m \u001b[0;34m\u001b[0m\u001b[0m\n\u001b[1;32m     98\u001b[0m     Variable._execution_engine.run_backward(\n\u001b[0;32m---> 99\u001b[0;31m         variables, grad_variables, retain_graph)\n\u001b[0m\u001b[1;32m    100\u001b[0m \u001b[0;34m\u001b[0m\u001b[0m\n\u001b[1;32m    101\u001b[0m \u001b[0;34m\u001b[0m\u001b[0m\n",
      "\u001b[0;31mKeyboardInterrupt\u001b[0m: "
     ]
    }
   ],
   "source": [
    "model.clear_pq()\n",
    "model.init_weights()\n",
    "train.train_pqt_pg(model, simple_rew, NPE=1000000)"
   ]
  },
  {
   "cell_type": "code",
   "execution_count": null,
   "metadata": {},
   "outputs": [],
   "source": []
  },
  {
   "cell_type": "code",
   "execution_count": null,
   "metadata": {},
   "outputs": [],
   "source": []
  },
  {
   "cell_type": "code",
   "execution_count": null,
   "metadata": {},
   "outputs": [],
   "source": []
  }
 ],
 "metadata": {
  "kernelspec": {
   "display_name": "Python 2",
   "language": "python",
   "name": "python2"
  },
  "language_info": {
   "codemirror_mode": {
    "name": "ipython",
    "version": 2
   },
   "file_extension": ".py",
   "mimetype": "text/x-python",
   "name": "python",
   "nbconvert_exporter": "python",
   "pygments_lexer": "ipython2",
   "version": "2.7.12"
  }
 },
 "nbformat": 4,
 "nbformat_minor": 2
}
