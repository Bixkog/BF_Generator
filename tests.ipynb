{
 "cells": [
  {
   "cell_type": "code",
   "execution_count": 1,
   "metadata": {},
   "outputs": [],
   "source": [
    "import numpy as np\n",
    "import torch\n",
    "import torch.nn as nn\n",
    "from torch.autograd import Variable\n",
    "\n",
    "import rnn\n",
    "import train"
   ]
  },
  {
   "cell_type": "code",
   "execution_count": null,
   "metadata": {},
   "outputs": [],
   "source": []
  },
  {
   "cell_type": "code",
   "execution_count": 2,
   "metadata": {},
   "outputs": [],
   "source": [
    "embedding_size = 10\n",
    "hidden_size = 35\n",
    "output_size = len(rnn.char.keys())\n",
    "n_layers = 2\n",
    "batch_size = 16\n",
    "GAMMA = 0.99 # for exponential moving avarage constant from paper\n",
    "\n",
    "\n"
   ]
  },
  {
   "cell_type": "code",
   "execution_count": 3,
   "metadata": {},
   "outputs": [
    {
     "name": "stdout",
     "output_type": "stream",
     "text": [
      "9\n"
     ]
    }
   ],
   "source": [
    "print(rnn.token_num)"
   ]
  },
  {
   "cell_type": "code",
   "execution_count": 4,
   "metadata": {},
   "outputs": [],
   "source": [
    "model = rnn.BFgen(rnn.token_num, embedding_size, hidden_size, output_size, n_layers, batch_size)"
   ]
  },
  {
   "cell_type": "code",
   "execution_count": 5,
   "metadata": {
    "scrolled": true
   },
   "outputs": [
    {
     "name": "stdout",
     "output_type": "stream",
     "text": [
      "Variable containing:\n",
      "\n",
      "Columns 0 to 12 \n",
      "    8     8     8     8     8     8     8     8     8     8     8     8     8\n",
      "\n",
      "Columns 13 to 15 \n",
      "    8     8     8\n",
      "[torch.LongTensor of size 1x16]\n",
      "\n"
     ]
    }
   ],
   "source": [
    "progs, probs = rnn.evaluate(model, 5, 10.0)"
   ]
  },
  {
   "cell_type": "code",
   "execution_count": 6,
   "metadata": {},
   "outputs": [
    {
     "name": "stdout",
     "output_type": "stream",
     "text": [
      "['..]]]', '<<<]]', ']]]]]', ']]]]]', '<<]]]', '..]]]', '[[[[]', '..]]]', '[[[]]', '..[]]', '..[[]', '[[[]]', '[[]]]', '[[[[]', '<<]]]', '>>[[[']\n"
     ]
    }
   ],
   "source": [
    "print(progs)"
   ]
  },
  {
   "cell_type": "code",
   "execution_count": null,
   "metadata": {},
   "outputs": [],
   "source": []
  },
  {
   "cell_type": "code",
   "execution_count": null,
   "metadata": {},
   "outputs": [],
   "source": []
  },
  {
   "cell_type": "code",
   "execution_count": 7,
   "metadata": {},
   "outputs": [
    {
     "name": "stdout",
     "output_type": "stream",
     "text": [
      "(Variable containing:\n",
      "-1.9927\n",
      "[torch.FloatTensor of size 1]\n",
      ", Variable containing:\n",
      " 207.6885\n",
      "[torch.FloatTensor of size 1]\n",
      ")\n"
     ]
    },
    {
     "name": "stderr",
     "output_type": "stream",
     "text": [
      "/usr/local/lib/python2.7/dist-packages/torch/autograd/_functions/basic_ops.py:15: UserWarning: other is not broadcastable to self, but they have the same number of elements.  Falling back to deprecated pointwise behavior.\n",
      "  return a.add_(b)\n"
     ]
    }
   ],
   "source": [
    "print(train.objective_PG(model, lambda x : 1, N=16))"
   ]
  },
  {
   "cell_type": "code",
   "execution_count": 8,
   "metadata": {},
   "outputs": [
    {
     "name": "stdout",
     "output_type": "stream",
     "text": [
      "Variable containing:\n",
      "( 0 ,.,.) = \n",
      "  0.1303  0.1299  0.1302  ...   0.1304  0.1302  0.1297\n",
      "  0.1295  0.1293  0.1295  ...   0.1287  0.1291  0.1306\n",
      "  0.1300  0.1289  0.1291  ...   0.1277  0.1282  0.1318\n",
      "           ...             ⋱             ...          \n",
      "  0.1309  0.1309  0.1309  ...   0.1309  0.1309  0.1309\n",
      "  0.1309  0.1309  0.1309  ...   0.1309  0.1309  0.1309\n",
      "  0.1309  0.1309  0.1309  ...   0.1309  0.1309  0.1309\n",
      "\n",
      "( 1 ,.,.) = \n",
      "  0.1082  0.1078  0.1078  ...   0.1079  0.1080  0.1080\n",
      "  0.1074  0.1072  0.1072  ...   0.1091  0.1086  0.1082\n",
      "  0.1076  0.1063  0.1063  ...   0.1099  0.1088  0.1081\n",
      "           ...             ⋱             ...          \n",
      "  0.1105  0.1105  0.1105  ...   0.1105  0.1105  0.1105\n",
      "  0.1105  0.1105  0.1105  ...   0.1105  0.1105  0.1105\n",
      "  0.1105  0.1105  0.1105  ...   0.1105  0.1105  0.1105\n",
      "\n",
      "( 2 ,.,.) = \n",
      "  0.1301  0.1303  0.1303  ...   0.1299  0.1301  0.1299\n",
      "  0.1303  0.1304  0.1304  ...   0.1326  0.1304  0.1296\n",
      "  0.1305  0.1294  0.1293  ...   0.1341  0.1299  0.1280\n",
      "           ...             ⋱             ...          \n",
      "  0.1320  0.1320  0.1320  ...   0.1320  0.1320  0.1320\n",
      "  0.1320  0.1320  0.1320  ...   0.1320  0.1320  0.1320\n",
      "  0.1320  0.1320  0.1320  ...   0.1320  0.1320  0.1320\n",
      "... \n",
      "\n",
      "( 5 ,.,.) = \n",
      "  0.1229  0.1230  0.1231  ...   0.1230  0.1232  0.1231\n",
      "  0.1225  0.1226  0.1226  ...   0.1211  0.1216  0.1214\n",
      "  0.1210  0.1227  0.1227  ...   0.1197  0.1206  0.1202\n",
      "           ...             ⋱             ...          \n",
      "  0.1158  0.1158  0.1158  ...   0.1158  0.1158  0.1158\n",
      "  0.1158  0.1158  0.1158  ...   0.1158  0.1158  0.1158\n",
      "  0.1158  0.1158  0.1158  ...   0.1158  0.1158  0.1158\n",
      "\n",
      "( 6 ,.,.) = \n",
      "  0.1174  0.1176  0.1173  ...   0.1174  0.1175  0.1174\n",
      "  0.1164  0.1165  0.1164  ...   0.1175  0.1162  0.1163\n",
      "  0.1161  0.1161  0.1161  ...   0.1182  0.1154  0.1156\n",
      "           ...             ⋱             ...          \n",
      "  0.1160  0.1160  0.1160  ...   0.1160  0.1160  0.1160\n",
      "  0.1160  0.1160  0.1160  ...   0.1160  0.1160  0.1160\n",
      "  0.1160  0.1160  0.1160  ...   0.1160  0.1160  0.1160\n",
      "\n",
      "( 7 ,.,.) = \n",
      "  0.1253  0.1257  0.1255  ...   0.1254  0.1251  0.1258\n",
      "  0.1271  0.1273  0.1271  ...   0.1263  0.1268  0.1266\n",
      "  0.1281  0.1285  0.1284  ...   0.1268  0.1280  0.1273\n",
      "           ...             ⋱             ...          \n",
      "  0.1297  0.1297  0.1297  ...   0.1297  0.1297  0.1297\n",
      "  0.1297  0.1297  0.1297  ...   0.1297  0.1297  0.1297\n",
      "  0.1297  0.1297  0.1297  ...   0.1297  0.1297  0.1297\n",
      "[torch.FloatTensor of size 8x100x10]\n",
      "\n"
     ]
    }
   ],
   "source": [
    "print(train.objective_PQT(model))"
   ]
  },
  {
   "cell_type": "code",
   "execution_count": null,
   "metadata": {},
   "outputs": [],
   "source": []
  },
  {
   "cell_type": "code",
   "execution_count": 9,
   "metadata": {},
   "outputs": [],
   "source": [
    "bfAdd = \",>++++++[<-------->-],[<+>-]<.\"\n",
    "bfAdd2 = \",>++++++[<-------->-],[<+>-]<+.\"\n",
    "bfAdd3 = \",>++++++[<-------->-],[<+>-]<++.\"\n",
    "bfAdd4 = \",>++++++[<-------->-],[<+>-]<+++.\"\n",
    "addBatch = [bfAdd, bfAdd2, bfAdd3, bfAdd4]\n",
    "bfAddIn = ['11', '12', '23']\n",
    "bfAddOut = ['2','3','5']"
   ]
  },
  {
   "cell_type": "code",
   "execution_count": 10,
   "metadata": {},
   "outputs": [],
   "source": [
    "reward = train.batch_reward(bfAddIn, bfAddOut, len(addBatch))"
   ]
  },
  {
   "cell_type": "code",
   "execution_count": 11,
   "metadata": {},
   "outputs": [
    {
     "data": {
      "text/plain": [
       "array([-76.8, -77.1, -77.1, -77.1])"
      ]
     },
     "execution_count": 11,
     "metadata": {},
     "output_type": "execute_result"
    }
   ],
   "source": [
    "reward(addBatch)"
   ]
  },
  {
   "cell_type": "code",
   "execution_count": null,
   "metadata": {},
   "outputs": [],
   "source": []
  }
 ],
 "metadata": {
  "kernelspec": {
   "display_name": "Python 2",
   "language": "python",
   "name": "python2"
  },
  "language_info": {
   "codemirror_mode": {
    "name": "ipython",
    "version": 2
   },
   "file_extension": ".py",
   "mimetype": "text/x-python",
   "name": "python",
   "nbconvert_exporter": "python",
   "pygments_lexer": "ipython2",
   "version": "2.7.12"
  }
 },
 "nbformat": 4,
 "nbformat_minor": 2
}
