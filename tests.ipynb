{
 "cells": [
  {
   "cell_type": "code",
   "execution_count": 1,
   "metadata": {},
   "outputs": [],
   "source": [
    "import numpy as np\n",
    "import torch\n",
    "import torch.nn as nn\n",
    "from torch.autograd import Variable\n",
    "\n",
    "import rnn\n",
    "import train"
   ]
  },
  {
   "cell_type": "code",
   "execution_count": null,
   "metadata": {},
   "outputs": [],
   "source": []
  },
  {
   "cell_type": "code",
   "execution_count": 2,
   "metadata": {},
   "outputs": [],
   "source": [
    "embedding_size = 10\n",
    "hidden_size = 35\n",
    "output_size = len(rnn.char.keys())\n",
    "n_layers = 2\n",
    "batch_size = 16\n",
    "GAMMA = 0.99 # for exponential moving avarage constant from paper\n",
    "\n",
    "\n"
   ]
  },
  {
   "cell_type": "code",
   "execution_count": 3,
   "metadata": {},
   "outputs": [
    {
     "name": "stdout",
     "output_type": "stream",
     "text": [
      "9\n"
     ]
    }
   ],
   "source": [
    "print(rnn.token_num)"
   ]
  },
  {
   "cell_type": "code",
   "execution_count": 4,
   "metadata": {},
   "outputs": [],
   "source": [
    "model = rnn.BFgen(rnn.token_num, embedding_size, hidden_size, output_size, n_layers, batch_size)"
   ]
  },
  {
   "cell_type": "code",
   "execution_count": 5,
   "metadata": {},
   "outputs": [
    {
     "name": "stdout",
     "output_type": "stream",
     "text": [
      "(Variable containing:\n",
      "-2.0816\n",
      "[torch.FloatTensor of size 1]\n",
      ", Variable containing:\n",
      " 3323.5195\n",
      "[torch.FloatTensor of size 1]\n",
      ")\n"
     ]
    },
    {
     "name": "stderr",
     "output_type": "stream",
     "text": [
      "rnn.py:110: UserWarning: Implicit dimension choice for log_softmax has been deprecated. Change the call to include dim=X as an argument.\n",
      "  probs = self.logsoftmax(decoded.permute(2, 0, 1)) # output_size x length x batch\n"
     ]
    }
   ],
   "source": [
    "print(train.objective_PG(model, lambda x : np.array([1] * model.batch_size), N=16), model.entropy)"
   ]
  },
  {
   "cell_type": "code",
   "execution_count": 6,
   "metadata": {},
   "outputs": [
    {
     "name": "stdout",
     "output_type": "stream",
     "text": [
      "Variable containing:\n",
      "-208.3249\n",
      "[torch.FloatTensor of size 1]\n",
      "\n"
     ]
    }
   ],
   "source": [
    "print(train.objective_PQT(model))"
   ]
  },
  {
   "cell_type": "code",
   "execution_count": 7,
   "metadata": {},
   "outputs": [
    {
     "name": "stdout",
     "output_type": "stream",
     "text": [
      "['-<>-.>+<[,+[,,<[[,[-..[<]<>.]-+]><,+>+]>+,.[-..[.>+[<->+-[-,[,+<<<+,.+.<++[.+.<+-<>]<,[<<,[,,>.]><.>'\n",
      " '>>+].<,,.>--[.]<<-<-+,+].[<,>+--.][]+]<><+<]]>.<<,+<<<],-]<<--]+>.,-]]<>[+>.+.+>]],+-[.>+,<.>,]>->+,'\n",
      " '+<>--.>+<+.,>+<+.++[-<<[.],-+,-++.-.]<][],<<],<-.<.][.+<-][[+>-]<,,[][.[[,.<],[<,<,<,.]>[<>>,.>[+][<'\n",
      " '][].>++-+-[-,,<.-.,<.>.+->,+[][[[<<<>+-]+,+]--.[.[+[>-,<>-,>[,.>>>,.>+-<<<>--[-,.<<+[,><]]<[-+[[+>[<'\n",
      " '[]<[]+++>-+,.[[].,,,+-+.]]--]-,<-.+++<,<+,+<+<<]<+[[]-[][<>-,.[+[]-<,-.>-<-]--..[+,[<,.-]]-[,,],<,+['\n",
      " '.>-]]+-[>>..<.-]+..>[-.<,+]>+<+.[]++,[<->.+.>>-.[->]+-<[+>-][>+[.>]+-.>++,+--.->.[><-][.,>>]-[-+.][.'\n",
      " '[++>>,>-]-[<+-..<<>.>[<<,-.-<,-.,]+.<,[-<><,<+>,]+<>-.>[+[<><>>],>[.>.-]-[>+<<[<+<>,->-[-]<>]<+-]-,-'\n",
      " '][<],[.,>,[<<>+<+<].-<<+>[.[][+<+]<<-,.+],>.+[.>-]>[[[.<-.+<<]-.>]><]+,+-[>-+]>>->[<<,].]<..,[],<-++'\n",
      " '+[>-,][<<,.,[-.<,.-.+<>>,..-]><,,]]>-][,[],+-[.][,[>>[>,]>]--+.][,<>,][[-[-><]].-++[+[<+]]<-++<>->..'\n",
      " ']-+>.+<],++,[[]>,<<<,.[..+>-><<.-[><+]-[>>[,+.<]]<]],.>>+-<+-.,<.+<+[<<+]<<-,>>[.,[>-,[>+[[-<>[-,>,,']\n"
     ]
    }
   ],
   "source": [
    "print(model.pqt_programs)"
   ]
  },
  {
   "cell_type": "code",
   "execution_count": 8,
   "metadata": {},
   "outputs": [],
   "source": [
    "bfAdd = \",>++++++[<-------->-],[<+>-]<++++++++.\"\n",
    "bfAdd2 = \",>++++++[<-------->-],[<+>-]<.\"\n",
    "bfAdd3 = \",>++++++[<-------->-],[<+>-]<++...\"\n",
    "bfAdd4 = \",>++++++[<-------->-],[<+>-]<+++............\"\n",
    "addBatch = [bfAdd, bfAdd2, bfAdd3, bfAdd4]\n",
    "bfAddIn = ['11', '12', '23']\n",
    "bfAddOut = ['2','3','5']"
   ]
  },
  {
   "cell_type": "code",
   "execution_count": 9,
   "metadata": {},
   "outputs": [],
   "source": [
    "reward = train.batch_reward(bfAddIn, bfAddOut)"
   ]
  },
  {
   "cell_type": "code",
   "execution_count": 10,
   "metadata": {},
   "outputs": [
    {
     "data": {
      "text/plain": [
       "array([ 0.99609375,  1.        , -1.        , -1.        ])"
      ]
     },
     "execution_count": 10,
     "metadata": {},
     "output_type": "execute_result"
    }
   ],
   "source": [
    "reward(addBatch)"
   ]
  },
  {
   "cell_type": "code",
   "execution_count": 11,
   "metadata": {},
   "outputs": [],
   "source": [
    "reverse_in = [\"a\", \"ab\", \"abc\", \"abcd\", \"abcde\"]\n",
    "reverse_out = [\"a\", \"ba\", \"cba\", \"dcba\", \"edcba\"]\n",
    "reverse_reward = train.batch_reward(reverse_in, reverse_out)"
   ]
  },
  {
   "cell_type": "code",
   "execution_count": 12,
   "metadata": {
    "scrolled": true
   },
   "outputs": [
    {
     "name": "stdout",
     "output_type": "stream",
     "text": [
      "Epoch Obj  Sample\n",
      "----- ----- ------\n"
     ]
    },
    {
     "ename": "KeyboardInterrupt",
     "evalue": "",
     "output_type": "error",
     "traceback": [
      "\u001b[0;31m---------------------------------------------------------------------------\u001b[0m",
      "\u001b[0;31mKeyboardInterrupt\u001b[0m                         Traceback (most recent call last)",
      "\u001b[0;32m<ipython-input-12-4fe2318fe40d>\u001b[0m in \u001b[0;36m<module>\u001b[0;34m()\u001b[0m\n\u001b[0;32m----> 1\u001b[0;31m \u001b[0mtrain\u001b[0m\u001b[0;34m.\u001b[0m\u001b[0mtrain_pqt_pg\u001b[0m\u001b[0;34m(\u001b[0m\u001b[0mmodel\u001b[0m\u001b[0;34m,\u001b[0m \u001b[0mreverse_reward\u001b[0m\u001b[0;34m)\u001b[0m\u001b[0;34m\u001b[0m\u001b[0m\n\u001b[0m",
      "\u001b[0;32m/Users/Wojtek/Desktop/Studia/Neural Networks/BF_Generator/train.py\u001b[0m in \u001b[0;36mtrain_pqt_pg\u001b[0;34m(model, reward_f, NPE, seq_len, epoch_size, clip_grad_norm)\u001b[0m\n\u001b[1;32m    137\u001b[0m     \u001b[0;32mfor\u001b[0m \u001b[0mi\u001b[0m \u001b[0;32min\u001b[0m \u001b[0mxrange\u001b[0m\u001b[0;34m(\u001b[0m\u001b[0mepoch_num\u001b[0m\u001b[0;34m)\u001b[0m\u001b[0;34m:\u001b[0m\u001b[0;34m\u001b[0m\u001b[0m\n\u001b[1;32m    138\u001b[0m         \u001b[0mmodel\u001b[0m\u001b[0;34m.\u001b[0m\u001b[0mzero_grad\u001b[0m\u001b[0;34m(\u001b[0m\u001b[0;34m)\u001b[0m\u001b[0;34m\u001b[0m\u001b[0m\n\u001b[0;32m--> 139\u001b[0;31m         \u001b[0mPG_objective\u001b[0m \u001b[0;34m=\u001b[0m \u001b[0mobjective_PG\u001b[0m\u001b[0;34m(\u001b[0m\u001b[0mmodel\u001b[0m\u001b[0;34m,\u001b[0m \u001b[0mreward_f\u001b[0m\u001b[0;34m,\u001b[0m \u001b[0mseq_len\u001b[0m\u001b[0;34m,\u001b[0m \u001b[0mepoch_size\u001b[0m\u001b[0;34m)\u001b[0m\u001b[0;34m\u001b[0m\u001b[0m\n\u001b[0m\u001b[1;32m    140\u001b[0m         \u001b[0mPQT_objective\u001b[0m \u001b[0;34m=\u001b[0m \u001b[0mobjective_PQT\u001b[0m\u001b[0;34m(\u001b[0m\u001b[0mmodel\u001b[0m\u001b[0;34m)\u001b[0m\u001b[0;34m\u001b[0m\u001b[0m\n\u001b[1;32m    141\u001b[0m         \u001b[0mentropy\u001b[0m \u001b[0;34m=\u001b[0m \u001b[0mmodel\u001b[0m\u001b[0;34m.\u001b[0m\u001b[0mentropy\u001b[0m\u001b[0;34m\u001b[0m\u001b[0m\n",
      "\u001b[0;32m/Users/Wojtek/Desktop/Studia/Neural Networks/BF_Generator/train.py\u001b[0m in \u001b[0;36mobjective_PG\u001b[0;34m(model, reward_f, predict_len, N)\u001b[0m\n\u001b[1;32m     92\u001b[0m \u001b[0;34m\u001b[0m\u001b[0m\n\u001b[1;32m     93\u001b[0m         \u001b[0;31m# calculate rewards\u001b[0m\u001b[0;34m\u001b[0m\u001b[0;34m\u001b[0m\u001b[0m\n\u001b[0;32m---> 94\u001b[0;31m         \u001b[0mrewards\u001b[0m \u001b[0;34m=\u001b[0m \u001b[0mreward_f\u001b[0m\u001b[0;34m(\u001b[0m\u001b[0mprediction\u001b[0m\u001b[0;34m)\u001b[0m\u001b[0;34m\u001b[0m\u001b[0m\n\u001b[0m\u001b[1;32m     95\u001b[0m         \u001b[0mrewards_mean\u001b[0m \u001b[0;34m=\u001b[0m \u001b[0mrewards\u001b[0m\u001b[0;34m.\u001b[0m\u001b[0mmean\u001b[0m\u001b[0;34m(\u001b[0m\u001b[0;34m)\u001b[0m\u001b[0;34m\u001b[0m\u001b[0m\n\u001b[1;32m     96\u001b[0m         \u001b[0mmodel\u001b[0m\u001b[0;34m.\u001b[0m\u001b[0mbaseline\u001b[0m \u001b[0;34m=\u001b[0m \u001b[0mrewards_mean\u001b[0m \u001b[0;34m*\u001b[0m \u001b[0mmodel\u001b[0m\u001b[0;34m.\u001b[0m\u001b[0mGAMMA\u001b[0m \u001b[0;34m+\u001b[0m \u001b[0;34m(\u001b[0m\u001b[0;36m1\u001b[0m \u001b[0;34m-\u001b[0m \u001b[0mmodel\u001b[0m\u001b[0;34m.\u001b[0m\u001b[0mGAMMA\u001b[0m\u001b[0;34m)\u001b[0m \u001b[0;34m*\u001b[0m \u001b[0mmodel\u001b[0m\u001b[0;34m.\u001b[0m\u001b[0mbaseline\u001b[0m\u001b[0;34m\u001b[0m\u001b[0m\n",
      "\u001b[0;32m/Users/Wojtek/Desktop/Studia/Neural Networks/BF_Generator/train.py\u001b[0m in \u001b[0;36mreward_program\u001b[0;34m(program_code_batch)\u001b[0m\n\u001b[1;32m     30\u001b[0m     \u001b[0mcorrect_reward\u001b[0m \u001b[0;34m=\u001b[0m \u001b[0mscaling_factor\u001b[0m \u001b[0;34m*\u001b[0m \u001b[0msum\u001b[0m\u001b[0;34m(\u001b[0m\u001b[0mS\u001b[0m\u001b[0;34m(\u001b[0m\u001b[0mbf_output\u001b[0m\u001b[0;34m,\u001b[0m \u001b[0mbf_output\u001b[0m\u001b[0;34m)\u001b[0m \u001b[0;32mfor\u001b[0m \u001b[0mbf_output\u001b[0m \u001b[0;32min\u001b[0m \u001b[0mbf_outputs\u001b[0m\u001b[0;34m)\u001b[0m\u001b[0;34m\u001b[0m\u001b[0m\n\u001b[1;32m     31\u001b[0m     \u001b[0;32mdef\u001b[0m \u001b[0mreward_program\u001b[0m\u001b[0;34m(\u001b[0m\u001b[0mprogram_code_batch\u001b[0m\u001b[0;34m)\u001b[0m\u001b[0;34m:\u001b[0m\u001b[0;34m\u001b[0m\u001b[0m\n\u001b[0;32m---> 32\u001b[0;31m         \u001b[0mrewards\u001b[0m \u001b[0;34m=\u001b[0m \u001b[0mnp\u001b[0m\u001b[0;34m.\u001b[0m\u001b[0marray\u001b[0m\u001b[0;34m(\u001b[0m\u001b[0mmap\u001b[0m\u001b[0;34m(\u001b[0m\u001b[0;32mlambda\u001b[0m \u001b[0mx\u001b[0m\u001b[0;34m:\u001b[0m \u001b[0mtotal_reward\u001b[0m\u001b[0;34m(\u001b[0m\u001b[0mx\u001b[0m\u001b[0;34m)\u001b[0m\u001b[0;34m,\u001b[0m \u001b[0mprogram_code_batch\u001b[0m\u001b[0;34m)\u001b[0m\u001b[0;34m)\u001b[0m\u001b[0;34m\u001b[0m\u001b[0m\n\u001b[0m\u001b[1;32m     33\u001b[0m         \u001b[0mmax_reward\u001b[0m \u001b[0;34m=\u001b[0m \u001b[0mmax\u001b[0m\u001b[0;34m(\u001b[0m\u001b[0;36m1e-8\u001b[0m\u001b[0;34m,\u001b[0m \u001b[0mcorrect_reward\u001b[0m\u001b[0;34m)\u001b[0m\u001b[0;34m\u001b[0m\u001b[0m\n\u001b[1;32m     34\u001b[0m         \u001b[0;32mreturn\u001b[0m \u001b[0mnp\u001b[0m\u001b[0;34m.\u001b[0m\u001b[0mvectorize\u001b[0m\u001b[0;34m(\u001b[0m\u001b[0;32mlambda\u001b[0m \u001b[0mx\u001b[0m\u001b[0;34m:\u001b[0m \u001b[0mmax\u001b[0m\u001b[0;34m(\u001b[0m\u001b[0;34m-\u001b[0m\u001b[0;36m1\u001b[0m\u001b[0;34m,\u001b[0m \u001b[0mx\u001b[0m\u001b[0;34m)\u001b[0m\u001b[0;34m)\u001b[0m\u001b[0;34m(\u001b[0m\u001b[0mrewards\u001b[0m \u001b[0;34m/\u001b[0m \u001b[0mmax_reward\u001b[0m\u001b[0;34m)\u001b[0m\u001b[0;34m\u001b[0m\u001b[0m\n",
      "\u001b[0;32m/Users/Wojtek/Desktop/Studia/Neural Networks/BF_Generator/train.py\u001b[0m in \u001b[0;36m<lambda>\u001b[0;34m(x)\u001b[0m\n\u001b[1;32m     30\u001b[0m     \u001b[0mcorrect_reward\u001b[0m \u001b[0;34m=\u001b[0m \u001b[0mscaling_factor\u001b[0m \u001b[0;34m*\u001b[0m \u001b[0msum\u001b[0m\u001b[0;34m(\u001b[0m\u001b[0mS\u001b[0m\u001b[0;34m(\u001b[0m\u001b[0mbf_output\u001b[0m\u001b[0;34m,\u001b[0m \u001b[0mbf_output\u001b[0m\u001b[0;34m)\u001b[0m \u001b[0;32mfor\u001b[0m \u001b[0mbf_output\u001b[0m \u001b[0;32min\u001b[0m \u001b[0mbf_outputs\u001b[0m\u001b[0;34m)\u001b[0m\u001b[0;34m\u001b[0m\u001b[0m\n\u001b[1;32m     31\u001b[0m     \u001b[0;32mdef\u001b[0m \u001b[0mreward_program\u001b[0m\u001b[0;34m(\u001b[0m\u001b[0mprogram_code_batch\u001b[0m\u001b[0;34m)\u001b[0m\u001b[0;34m:\u001b[0m\u001b[0;34m\u001b[0m\u001b[0m\n\u001b[0;32m---> 32\u001b[0;31m         \u001b[0mrewards\u001b[0m \u001b[0;34m=\u001b[0m \u001b[0mnp\u001b[0m\u001b[0;34m.\u001b[0m\u001b[0marray\u001b[0m\u001b[0;34m(\u001b[0m\u001b[0mmap\u001b[0m\u001b[0;34m(\u001b[0m\u001b[0;32mlambda\u001b[0m \u001b[0mx\u001b[0m\u001b[0;34m:\u001b[0m \u001b[0mtotal_reward\u001b[0m\u001b[0;34m(\u001b[0m\u001b[0mx\u001b[0m\u001b[0;34m)\u001b[0m\u001b[0;34m,\u001b[0m \u001b[0mprogram_code_batch\u001b[0m\u001b[0;34m)\u001b[0m\u001b[0;34m)\u001b[0m\u001b[0;34m\u001b[0m\u001b[0m\n\u001b[0m\u001b[1;32m     33\u001b[0m         \u001b[0mmax_reward\u001b[0m \u001b[0;34m=\u001b[0m \u001b[0mmax\u001b[0m\u001b[0;34m(\u001b[0m\u001b[0;36m1e-8\u001b[0m\u001b[0;34m,\u001b[0m \u001b[0mcorrect_reward\u001b[0m\u001b[0;34m)\u001b[0m\u001b[0;34m\u001b[0m\u001b[0m\n\u001b[1;32m     34\u001b[0m         \u001b[0;32mreturn\u001b[0m \u001b[0mnp\u001b[0m\u001b[0;34m.\u001b[0m\u001b[0mvectorize\u001b[0m\u001b[0;34m(\u001b[0m\u001b[0;32mlambda\u001b[0m \u001b[0mx\u001b[0m\u001b[0;34m:\u001b[0m \u001b[0mmax\u001b[0m\u001b[0;34m(\u001b[0m\u001b[0;34m-\u001b[0m\u001b[0;36m1\u001b[0m\u001b[0;34m,\u001b[0m \u001b[0mx\u001b[0m\u001b[0;34m)\u001b[0m\u001b[0;34m)\u001b[0m\u001b[0;34m(\u001b[0m\u001b[0mrewards\u001b[0m \u001b[0;34m/\u001b[0m \u001b[0mmax_reward\u001b[0m\u001b[0;34m)\u001b[0m\u001b[0;34m\u001b[0m\u001b[0m\n",
      "\u001b[0;32m/Users/Wojtek/Desktop/Studia/Neural Networks/BF_Generator/train.py\u001b[0m in \u001b[0;36mtotal_reward\u001b[0;34m(program_code)\u001b[0m\n\u001b[1;32m     24\u001b[0m \u001b[0;34m\u001b[0m\u001b[0m\n\u001b[1;32m     25\u001b[0m     \u001b[0;32mdef\u001b[0m \u001b[0mtotal_reward\u001b[0m\u001b[0;34m(\u001b[0m\u001b[0mprogram_code\u001b[0m\u001b[0;34m)\u001b[0m\u001b[0;34m:\u001b[0m\u001b[0;34m\u001b[0m\u001b[0m\n\u001b[0;32m---> 26\u001b[0;31m         \u001b[0mprogram_outputs\u001b[0m \u001b[0;34m=\u001b[0m \u001b[0mmap\u001b[0m\u001b[0;34m(\u001b[0m\u001b[0;34m(\u001b[0m\u001b[0;32mlambda\u001b[0m \u001b[0mx\u001b[0m\u001b[0;34m:\u001b[0m \u001b[0mbfCompiler\u001b[0m\u001b[0;34m.\u001b[0m\u001b[0mBF\u001b[0m\u001b[0;34m(\u001b[0m\u001b[0mprogram_code\u001b[0m\u001b[0;34m,\u001b[0m \u001b[0mx\u001b[0m\u001b[0;34m)\u001b[0m\u001b[0;34m)\u001b[0m\u001b[0;34m,\u001b[0m \u001b[0mbf_inputs\u001b[0m\u001b[0;34m)\u001b[0m\u001b[0;34m\u001b[0m\u001b[0m\n\u001b[0m\u001b[1;32m     27\u001b[0m         \u001b[0mprogram_outputs\u001b[0m \u001b[0;34m=\u001b[0m \u001b[0mmap\u001b[0m\u001b[0;34m(\u001b[0m\u001b[0;32mlambda\u001b[0m \u001b[0;34m(\u001b[0m\u001b[0mx\u001b[0m\u001b[0;34m,\u001b[0m\u001b[0my\u001b[0m\u001b[0;34m,\u001b[0m\u001b[0mz\u001b[0m\u001b[0;34m)\u001b[0m\u001b[0;34m:\u001b[0m\u001b[0mx\u001b[0m\u001b[0;34m,\u001b[0m \u001b[0mprogram_outputs\u001b[0m\u001b[0;34m)\u001b[0m\u001b[0;34m\u001b[0m\u001b[0m\n\u001b[1;32m     28\u001b[0m         \u001b[0;32mreturn\u001b[0m \u001b[0mscaling_factor\u001b[0m \u001b[0;34m*\u001b[0m \u001b[0msum\u001b[0m\u001b[0;34m(\u001b[0m\u001b[0mS\u001b[0m\u001b[0;34m(\u001b[0m\u001b[0mprogram_output\u001b[0m\u001b[0;34m,\u001b[0m \u001b[0mbf_output\u001b[0m\u001b[0;34m)\u001b[0m \u001b[0;32mfor\u001b[0m \u001b[0mprogram_output\u001b[0m\u001b[0;34m,\u001b[0m \u001b[0mbf_output\u001b[0m \u001b[0;32min\u001b[0m \u001b[0mzip\u001b[0m\u001b[0;34m(\u001b[0m\u001b[0mprogram_outputs\u001b[0m\u001b[0;34m,\u001b[0m \u001b[0mbf_outputs\u001b[0m\u001b[0;34m)\u001b[0m\u001b[0;34m)\u001b[0m\u001b[0;34m\u001b[0m\u001b[0m\n",
      "\u001b[0;32m/Users/Wojtek/Desktop/Studia/Neural Networks/BF_Generator/train.py\u001b[0m in \u001b[0;36m<lambda>\u001b[0;34m(x)\u001b[0m\n\u001b[1;32m     24\u001b[0m \u001b[0;34m\u001b[0m\u001b[0m\n\u001b[1;32m     25\u001b[0m     \u001b[0;32mdef\u001b[0m \u001b[0mtotal_reward\u001b[0m\u001b[0;34m(\u001b[0m\u001b[0mprogram_code\u001b[0m\u001b[0;34m)\u001b[0m\u001b[0;34m:\u001b[0m\u001b[0;34m\u001b[0m\u001b[0m\n\u001b[0;32m---> 26\u001b[0;31m         \u001b[0mprogram_outputs\u001b[0m \u001b[0;34m=\u001b[0m \u001b[0mmap\u001b[0m\u001b[0;34m(\u001b[0m\u001b[0;34m(\u001b[0m\u001b[0;32mlambda\u001b[0m \u001b[0mx\u001b[0m\u001b[0;34m:\u001b[0m \u001b[0mbfCompiler\u001b[0m\u001b[0;34m.\u001b[0m\u001b[0mBF\u001b[0m\u001b[0;34m(\u001b[0m\u001b[0mprogram_code\u001b[0m\u001b[0;34m,\u001b[0m \u001b[0mx\u001b[0m\u001b[0;34m)\u001b[0m\u001b[0;34m)\u001b[0m\u001b[0;34m,\u001b[0m \u001b[0mbf_inputs\u001b[0m\u001b[0;34m)\u001b[0m\u001b[0;34m\u001b[0m\u001b[0m\n\u001b[0m\u001b[1;32m     27\u001b[0m         \u001b[0mprogram_outputs\u001b[0m \u001b[0;34m=\u001b[0m \u001b[0mmap\u001b[0m\u001b[0;34m(\u001b[0m\u001b[0;32mlambda\u001b[0m \u001b[0;34m(\u001b[0m\u001b[0mx\u001b[0m\u001b[0;34m,\u001b[0m\u001b[0my\u001b[0m\u001b[0;34m,\u001b[0m\u001b[0mz\u001b[0m\u001b[0;34m)\u001b[0m\u001b[0;34m:\u001b[0m\u001b[0mx\u001b[0m\u001b[0;34m,\u001b[0m \u001b[0mprogram_outputs\u001b[0m\u001b[0;34m)\u001b[0m\u001b[0;34m\u001b[0m\u001b[0m\n\u001b[1;32m     28\u001b[0m         \u001b[0;32mreturn\u001b[0m \u001b[0mscaling_factor\u001b[0m \u001b[0;34m*\u001b[0m \u001b[0msum\u001b[0m\u001b[0;34m(\u001b[0m\u001b[0mS\u001b[0m\u001b[0;34m(\u001b[0m\u001b[0mprogram_output\u001b[0m\u001b[0;34m,\u001b[0m \u001b[0mbf_output\u001b[0m\u001b[0;34m)\u001b[0m \u001b[0;32mfor\u001b[0m \u001b[0mprogram_output\u001b[0m\u001b[0;34m,\u001b[0m \u001b[0mbf_output\u001b[0m \u001b[0;32min\u001b[0m \u001b[0mzip\u001b[0m\u001b[0;34m(\u001b[0m\u001b[0mprogram_outputs\u001b[0m\u001b[0;34m,\u001b[0m \u001b[0mbf_outputs\u001b[0m\u001b[0;34m)\u001b[0m\u001b[0;34m)\u001b[0m\u001b[0;34m\u001b[0m\u001b[0m\n",
      "\u001b[0;32m/Users/Wojtek/Desktop/Studia/Neural Networks/BF_Generator/bfCompiler.pyc\u001b[0m in \u001b[0;36mBF\u001b[0;34m(code, input_list, ops_limit, max_ops)\u001b[0m\n\u001b[1;32m     96\u001b[0m     \u001b[0mbracemap\u001b[0m \u001b[0;34m=\u001b[0m \u001b[0mbuildbracemap\u001b[0m\u001b[0;34m(\u001b[0m\u001b[0mcode\u001b[0m\u001b[0;34m)\u001b[0m\u001b[0;34m\u001b[0m\u001b[0m\n\u001b[1;32m     97\u001b[0m     output, operations_counter = bfEvaluate(\n\u001b[0;32m---> 98\u001b[0;31m         code, input_list, bracemap, ops_limit, max_ops)\n\u001b[0m\u001b[1;32m     99\u001b[0m     \u001b[0;32mreturn\u001b[0m \u001b[0moutput\u001b[0m\u001b[0;34m,\u001b[0m \u001b[0moperations_counter\u001b[0m\u001b[0;34m,\u001b[0m \u001b[0munmatched_braces\u001b[0m\u001b[0;34m\u001b[0m\u001b[0m\n",
      "\u001b[0;32m/Users/Wojtek/Desktop/Studia/Neural Networks/BF_Generator/bfCompiler.pyc\u001b[0m in \u001b[0;36mbfEvaluate\u001b[0;34m(code, input_list, bracemap, ops_limit, max_ops)\u001b[0m\n\u001b[1;32m     54\u001b[0m \u001b[0;34m\u001b[0m\u001b[0m\n\u001b[1;32m     55\u001b[0m         \u001b[0;32mif\u001b[0m \u001b[0mcommand\u001b[0m \u001b[0;34m==\u001b[0m \u001b[0;34m\"<\"\u001b[0m\u001b[0;34m:\u001b[0m\u001b[0;34m\u001b[0m\u001b[0m\n\u001b[0;32m---> 56\u001b[0;31m             \u001b[0mcell_ptr\u001b[0m \u001b[0;34m=\u001b[0m \u001b[0mmax\u001b[0m\u001b[0;34m(\u001b[0m\u001b[0;36m0\u001b[0m\u001b[0;34m,\u001b[0m \u001b[0mcell_ptr\u001b[0m \u001b[0;34m-\u001b[0m \u001b[0;36m1\u001b[0m\u001b[0;34m)\u001b[0m\u001b[0;34m\u001b[0m\u001b[0m\n\u001b[0m\u001b[1;32m     57\u001b[0m \u001b[0;34m\u001b[0m\u001b[0m\n\u001b[1;32m     58\u001b[0m         \u001b[0;32mif\u001b[0m \u001b[0mcommand\u001b[0m \u001b[0;34m==\u001b[0m \u001b[0;34m\"+\"\u001b[0m\u001b[0;34m:\u001b[0m\u001b[0;34m\u001b[0m\u001b[0m\n",
      "\u001b[0;31mKeyboardInterrupt\u001b[0m: "
     ]
    }
   ],
   "source": [
    "train.train_pqt_pg(model, reverse_reward)"
   ]
  },
  {
   "cell_type": "code",
   "execution_count": 13,
   "metadata": {},
   "outputs": [],
   "source": [
    "expected_code = \"><.><\"\n",
    "program_batch_code = [\".....\", \"..<..\", \"[][][][][[][[][][][][][][]]]\", \"]\"]"
   ]
  },
  {
   "cell_type": "code",
   "execution_count": 14,
   "metadata": {},
   "outputs": [],
   "source": [
    "simple_rew = train.simplified_batch_reward(expected_code)"
   ]
  },
  {
   "cell_type": "code",
   "execution_count": 15,
   "metadata": {},
   "outputs": [
    {
     "data": {
      "text/plain": [
       "array([ 0.996875  ,  0.99609375, -1.        ,  0.19921875])"
      ]
     },
     "execution_count": 15,
     "metadata": {},
     "output_type": "execute_result"
    }
   ],
   "source": [
    "simple_rew(program_batch_code)"
   ]
  },
  {
   "cell_type": "code",
   "execution_count": 16,
   "metadata": {},
   "outputs": [
    {
     "name": "stdout",
     "output_type": "stream",
     "text": [
      "100 >>>..>>>..>>>..>>>..>>>..>>>..>>>..>>>..>>>..>>>..>>>..>>>..>>>..>>>..>>>..>>>..>>>..>>>..>>>..>>>..\n"
     ]
    }
   ],
   "source": [
    "training_expected_code = \">>>..\" * 20\n",
    "print len(training_expected_code),training_expected_code"
   ]
  },
  {
   "cell_type": "code",
   "execution_count": 17,
   "metadata": {},
   "outputs": [
    {
     "data": {
      "text/plain": [
       "array([0.04988281, 0.04988281, 0.27890625, 0.00996094])"
      ]
     },
     "execution_count": 17,
     "metadata": {},
     "output_type": "execute_result"
    }
   ],
   "source": [
    "training_rew = train.simplified_batch_reward(training_expected_code)\n",
    "training_rew(program_batch_code)"
   ]
  },
  {
   "cell_type": "code",
   "execution_count": null,
   "metadata": {},
   "outputs": [
    {
     "name": "stdout",
     "output_type": "stream",
     "text": [
      "Epoch Obj  Sample\n",
      "----- ----- ------\n",
      "Variable containing:\n",
      "1.00000e-06 *\n",
      " -4.2764\n",
      "[torch.FloatTensor of size 1]\n",
      "\n",
      "Variable containing:\n",
      "-207.9940\n",
      "[torch.FloatTensor of size 1]\n",
      "\n",
      "Variable containing:\n",
      "1.00000e+05 *\n",
      "  2.0938\n",
      "[torch.FloatTensor of size 1]\n",
      "\n",
      "0.9965281579639621\n",
      "   0  -8305.910 ]>[]]<,<,.+<>.->.,[,+<<]-->].[]+<+]<+-,>-.>.<--.+>..[><-.++>,[+><-]]-[]<]],].<<[[>]<.-,<[.<,..,++-<[\n",
      "Variable containing:\n",
      "1.00000e-06 *\n",
      "  1.0715\n",
      "[torch.FloatTensor of size 1]\n",
      "\n",
      "Variable containing:\n",
      "-208.0531\n",
      "[torch.FloatTensor of size 1]\n",
      "\n",
      "Variable containing:\n",
      "1.00000e+05 *\n",
      "  2.0936\n",
      "[torch.FloatTensor of size 1]\n",
      "\n",
      "0.996557867835036\n",
      "   1  -8309.009 [.,>+>,],[<-[<>].,[.]>,->[<[[[.<-[.+]<+.<-,]-.-<+]]->.]]]>]-,]]+<,,.>.-++,.-.<[>]]].]>+,+[,.]<,<[,<.\n",
      "Variable containing:\n",
      "1.00000e-06 *\n",
      " -5.3834\n",
      "[torch.FloatTensor of size 1]\n",
      "\n",
      "Variable containing:\n",
      "-208.0918\n",
      "[torch.FloatTensor of size 1]\n",
      "\n",
      "Variable containing:\n",
      "1.00000e+05 *\n",
      "  2.0934\n",
      "[torch.FloatTensor of size 1]\n",
      "\n",
      "0.9965867695457521\n",
      "   2  -8311.223 >-],><+[,]<.<-+<[..><<,<-[,.,>+<><]]>>-[-.+>,[-]>]+>[....+>[,>>[+-]<+><][<..+[+--]<<-.>[[<[+.[>.,->>\n",
      "Variable containing:\n",
      "1.00000e-06 *\n",
      " -1.6856\n",
      "[torch.FloatTensor of size 1]\n",
      "\n",
      "Variable containing:\n",
      "-208.1380\n",
      "[torch.FloatTensor of size 1]\n",
      "\n",
      "Variable containing:\n",
      "1.00000e+05 *\n",
      "  2.0930\n",
      "[torch.FloatTensor of size 1]\n",
      "\n",
      "0.9965673808480459\n",
      "   3  -8313.858 ]]>++<[+]++]+-+][+,--,><>[<<[,.,]-<<[+<>+-[[].][]>..<-[+]->>>>.-,.-.+][.,>--,>,.>,+.[><<+[.,--]>,-,+\n",
      "Variable containing:\n",
      "1.00000e-06 *\n",
      "  1.6450\n",
      "[torch.FloatTensor of size 1]\n",
      "\n",
      "Variable containing:\n",
      "-208.1707\n",
      "[torch.FloatTensor of size 1]\n",
      "\n",
      "Variable containing:\n",
      "1.00000e+05 *\n",
      "  2.0929\n",
      "[torch.FloatTensor of size 1]\n",
      "\n",
      "0.9965479961209734\n",
      "   4  -8315.685 <].]+[..>],+.]+-.,+[]]]-]-,-<,[],[[.<..>-,-,[..,,,-<>,]<>,<<.>,<+>--,,[[][><-]][[[+<.]-<[,.]-+,<>.+,\n",
      "Variable containing:\n",
      "1.00000e-08 *\n",
      " -1.9858\n",
      "[torch.FloatTensor of size 1]\n",
      "\n",
      "Variable containing:\n",
      "-208.2099\n",
      "[torch.FloatTensor of size 1]\n",
      "\n",
      "Variable containing:\n",
      "1.00000e+05 *\n",
      "  2.0928\n",
      "[torch.FloatTensor of size 1]\n",
      "\n",
      "0.9965169140865463\n",
      "   5  -8317.712 <].]+[..>],+.]+-.,+[]]]-]-,-<,[],[[.<..>-,-,[..,,,-<>,]<>,<<.>,<+>--,,[[][><-]][[[+<.]-<[,.]-+,<>.+,\n",
      "Variable containing:\n",
      "1.00000e-06 *\n",
      " -4.2868\n",
      "[torch.FloatTensor of size 1]\n",
      "\n",
      "Variable containing:\n",
      "-208.2363\n",
      "[torch.FloatTensor of size 1]\n",
      "\n",
      "Variable containing:\n",
      "1.00000e+05 *\n",
      "  2.0926\n",
      "[torch.FloatTensor of size 1]\n",
      "\n",
      "0.9965723144388663\n",
      "   6  -8319.219 ]>[]]<,<,.+<>.->.,[,+<<]-->].[]+<+]<+-,>-.>.<--.+>..[><-.++>,[+><-]]-[]<]],].<<[[>]<.-,<[.<,..,++-<[\n",
      "Variable containing:\n",
      "1.00000e-06 *\n",
      "  4.6429\n",
      "[torch.FloatTensor of size 1]\n",
      "\n",
      "Variable containing:\n",
      "-208.2679\n",
      "[torch.FloatTensor of size 1]\n",
      "\n",
      "Variable containing:\n",
      "1.00000e+05 *\n",
      "  2.0923\n",
      "[torch.FloatTensor of size 1]\n",
      "\n",
      "0.9965895473753167\n",
      "   7  -8321.107 ]]>++<[+]++]+-+][+,--,><>[<<[,.,]-<<[+<>+-[[].][]>..<-[+]->>>>.-,.-.+][.,>--,>,.>,+.[><<+[.,--]>,-,+\n",
      "Variable containing:\n",
      "1.00000e-06 *\n",
      " -4.8132\n",
      "[torch.FloatTensor of size 1]\n",
      "\n",
      "Variable containing:\n",
      "-208.3039\n",
      "[torch.FloatTensor of size 1]\n",
      "\n",
      "Variable containing:\n",
      "1.00000e+05 *\n",
      "  2.0920\n",
      "[torch.FloatTensor of size 1]\n",
      "\n",
      "0.9965821010909948\n",
      "   8  -8323.162 ]>[]]<,<,.+<>.->.,[,+<<]-->].[]+<+]<+-,>-.>.<--.+>..[><-.++>,[+><-]]-[]<]],].<<[[>]<.-,<[.<,..,++-<[\n",
      "Variable containing:\n",
      "1.00000e-06 *\n",
      "  4.7914\n",
      "[torch.FloatTensor of size 1]\n",
      "\n",
      "Variable containing:\n",
      "-208.3331\n",
      "[torch.FloatTensor of size 1]\n",
      "\n",
      "Variable containing:\n",
      "1.00000e+05 *\n",
      "  2.0919\n",
      "[torch.FloatTensor of size 1]\n",
      "\n",
      "0.9965898649677474\n",
      "   9  -8324.773 [.,>+>,],[<-[<>].,[.]>,->[<[[[.<-[.+]<+.<-,]-.-<+]]->.]]]>]-,]]+<,,.>.-++,.-.<[>]]].]>+,+[,.]<,<[,<.\n",
      "Variable containing:\n",
      "1.00000e-06 *\n",
      " -8.0106\n",
      "[torch.FloatTensor of size 1]\n",
      "\n",
      "Variable containing:\n",
      "-208.3689\n",
      "[torch.FloatTensor of size 1]\n",
      "\n",
      "Variable containing:\n",
      "1.00000e+05 *\n",
      "  2.0918\n",
      "[torch.FloatTensor of size 1]\n",
      "\n",
      "0.9966061269146435\n",
      "  10  -8326.669 <>,-<[>.-],.[[+>-,[.,][[>><<.,.]-,--,[]-.<<.><-].,---><++,<[,]+,>>+.<><][-[.>],]>.<].[]>>[]+,>.<]<<-\n",
      "Variable containing:\n",
      "1.00000e-06 *\n",
      " -2.3575\n",
      "[torch.FloatTensor of size 1]\n",
      "\n",
      "Variable containing:\n",
      "-208.3962\n",
      "[torch.FloatTensor of size 1]\n",
      "\n",
      "Variable containing:\n",
      "1.00000e+05 *\n",
      "  2.0915\n",
      "[torch.FloatTensor of size 1]\n",
      "\n",
      "0.996601588093598\n",
      "  11  -8328.276 <].]+[..>],+.]+-.,+[]]]-]-,-<,[],[[.<..>-,-,[..,,,-<>,]<>,<<.>,<+>--,,[[][><-]][[[+<.]-<[,.]-+,<>.+,\n"
     ]
    }
   ],
   "source": [
    "train.train_pqt_pg(model, training_rew)"
   ]
  },
  {
   "cell_type": "code",
   "execution_count": null,
   "metadata": {},
   "outputs": [],
   "source": []
  }
 ],
 "metadata": {
  "kernelspec": {
   "display_name": "Python 2",
   "language": "python",
   "name": "python2"
  },
  "language_info": {
   "codemirror_mode": {
    "name": "ipython",
    "version": 2
   },
   "file_extension": ".py",
   "mimetype": "text/x-python",
   "name": "python",
   "nbconvert_exporter": "python",
   "pygments_lexer": "ipython2",
   "version": "2.7.13"
  }
 },
 "nbformat": 4,
 "nbformat_minor": 2
}
