{
 "cells": [
  {
   "cell_type": "code",
   "execution_count": 1,
   "metadata": {},
   "outputs": [],
   "source": [
    "import numpy as np\n",
    "import torch\n",
    "import torch.nn as nn\n",
    "from torch.autograd import Variable\n",
    "\n",
    "import rnn\n",
    "import train"
   ]
  },
  {
   "cell_type": "code",
   "execution_count": null,
   "metadata": {},
   "outputs": [],
   "source": []
  },
  {
   "cell_type": "code",
   "execution_count": 2,
   "metadata": {},
   "outputs": [],
   "source": [
    "embedding_size = 10\n",
    "hidden_size = 35\n",
    "output_size = len(rnn.char.keys())\n",
    "n_layers = 2\n",
    "batch_size = 16\n",
    "GAMMA = 0.99 # for exponential moving avarage constant from paper\n",
    "\n",
    "\n"
   ]
  },
  {
   "cell_type": "code",
   "execution_count": 3,
   "metadata": {},
   "outputs": [
    {
     "name": "stdout",
     "output_type": "stream",
     "text": [
      "9\n"
     ]
    }
   ],
   "source": [
    "print(rnn.token_num)"
   ]
  },
  {
   "cell_type": "code",
   "execution_count": 4,
   "metadata": {},
   "outputs": [],
   "source": [
    "model = rnn.BFgen(rnn.token_num, embedding_size, hidden_size, output_size, n_layers, batch_size)"
   ]
  },
  {
   "cell_type": "code",
   "execution_count": 5,
   "metadata": {},
   "outputs": [
    {
     "name": "stdout",
     "output_type": "stream",
     "text": [
      "(Variable containing:\n",
      "-2.0816\n",
      "[torch.FloatTensor of size 1]\n",
      ", Variable containing:\n",
      " 3323.5195\n",
      "[torch.FloatTensor of size 1]\n",
      ")\n"
     ]
    },
    {
     "name": "stderr",
     "output_type": "stream",
     "text": [
      "rnn.py:110: UserWarning: Implicit dimension choice for log_softmax has been deprecated. Change the call to include dim=X as an argument.\n",
      "  probs = self.logsoftmax(decoded.permute(2, 0, 1)) # output_size x length x batch\n"
     ]
    }
   ],
   "source": [
    "print(train.objective_PG(model, lambda x : np.array([1] * model.batch_size), N=16), model.entropy)"
   ]
  },
  {
   "cell_type": "code",
   "execution_count": 6,
   "metadata": {},
   "outputs": [
    {
     "name": "stdout",
     "output_type": "stream",
     "text": [
      "Variable containing:\n",
      "-208.3249\n",
      "[torch.FloatTensor of size 1]\n",
      "\n"
     ]
    }
   ],
   "source": [
    "print(train.objective_PQT(model))"
   ]
  },
  {
   "cell_type": "code",
   "execution_count": 7,
   "metadata": {},
   "outputs": [
    {
     "name": "stdout",
     "output_type": "stream",
     "text": [
      "['-<>-.>+<[,+[,,<[[,[-..[<]<>.]-+]><,+>+]>+,.[-..[.>+[<->+-[-,[,+<<<+,.+.<++[.+.<+-<>]<,[<<,[,,>.]><.>'\n",
      " '>>+].<,,.>--[.]<<-<-+,+].[<,>+--.][]+]<><+<]]>.<<,+<<<],-]<<--]+>.,-]]<>[+>.+.+>]],+-[.>+,<.>,]>->+,'\n",
      " '+<>--.>+<+.,>+<+.++[-<<[.],-+,-++.-.]<][],<<],<-.<.][.+<-][[+>-]<,,[][.[[,.<],[<,<,<,.]>[<>>,.>[+][<'\n",
      " '][].>++-+-[-,,<.-.,<.>.+->,+[][[[<<<>+-]+,+]--.[.[+[>-,<>-,>[,.>>>,.>+-<<<>--[-,.<<+[,><]]<[-+[[+>[<'\n",
      " '[]<[]+++>-+,.[[].,,,+-+.]]--]-,<-.+++<,<+,+<+<<]<+[[]-[][<>-,.[+[]-<,-.>-<-]--..[+,[<,.-]]-[,,],<,+['\n",
      " '.>-]]+-[>>..<.-]+..>[-.<,+]>+<+.[]++,[<->.+.>>-.[->]+-<[+>-][>+[.>]+-.>++,+--.->.[><-][.,>>]-[-+.][.'\n",
      " '[++>>,>-]-[<+-..<<>.>[<<,-.-<,-.,]+.<,[-<><,<+>,]+<>-.>[+[<><>>],>[.>.-]-[>+<<[<+<>,->-[-]<>]<+-]-,-'\n",
      " '][<],[.,>,[<<>+<+<].-<<+>[.[][+<+]<<-,.+],>.+[.>-]>[[[.<-.+<<]-.>]><]+,+-[>-+]>>->[<<,].]<..,[],<-++'\n",
      " '+[>-,][<<,.,[-.<,.-.+<>>,..-]><,,]]>-][,[],+-[.][,[>>[>,]>]--+.][,<>,][[-[-><]].-++[+[<+]]<-++<>->..'\n",
      " ']-+>.+<],++,[[]>,<<<,.[..+>-><<.-[><+]-[>>[,+.<]]<]],.>>+-<+-.,<.+<+[<<+]<<-,>>[.,[>-,[>+[[-<>[-,>,,']\n"
     ]
    }
   ],
   "source": [
    "print(model.pqt_programs)"
   ]
  },
  {
   "cell_type": "code",
   "execution_count": 8,
   "metadata": {},
   "outputs": [],
   "source": [
    "bfAdd = \",>++++++[<-------->-],[<+>-]<++++++++.\"\n",
    "bfAdd2 = \",>++++++[<-------->-],[<+>-]<.\"\n",
    "bfAdd3 = \",>++++++[<-------->-],[<+>-]<++...\"\n",
    "bfAdd4 = \",>++++++[<-------->-],[<+>-]<+++............\"\n",
    "addBatch = [bfAdd, bfAdd2, bfAdd3, bfAdd4]\n",
    "bfAddIn = ['11', '12', '23']\n",
    "bfAddOut = ['2','3','5']"
   ]
  },
  {
   "cell_type": "code",
   "execution_count": 9,
   "metadata": {},
   "outputs": [],
   "source": [
    "reward = train.batch_reward(bfAddIn, bfAddOut)"
   ]
  },
  {
   "cell_type": "code",
   "execution_count": 10,
   "metadata": {},
   "outputs": [
    {
     "data": {
      "text/plain": [
       "array([ 0.99609375,  1.        , -1.        , -1.        ])"
      ]
     },
     "execution_count": 10,
     "metadata": {},
     "output_type": "execute_result"
    }
   ],
   "source": [
    "reward(addBatch)"
   ]
  },
  {
   "cell_type": "code",
   "execution_count": 11,
   "metadata": {},
   "outputs": [],
   "source": [
    "reverse_in = [\"a\", \"ab\", \"abc\", \"abcd\", \"abcde\"]\n",
    "reverse_out = [\"a\", \"ba\", \"cba\", \"dcba\", \"edcba\"]\n",
    "reverse_reward = train.batch_reward(reverse_in, reverse_out)"
   ]
  },
  {
   "cell_type": "code",
   "execution_count": 12,
   "metadata": {
    "scrolled": true
   },
   "outputs": [
    {
     "name": "stdout",
     "output_type": "stream",
     "text": [
      "Epoch Obj  Sample\n",
      "----- ----- ------\n"
     ]
    },
    {
     "ename": "KeyboardInterrupt",
     "evalue": "",
     "output_type": "error",
     "traceback": [
      "\u001b[0;31m---------------------------------------------------------------------------\u001b[0m",
      "\u001b[0;31mKeyboardInterrupt\u001b[0m                         Traceback (most recent call last)",
      "\u001b[0;32m<ipython-input-12-4fe2318fe40d>\u001b[0m in \u001b[0;36m<module>\u001b[0;34m()\u001b[0m\n\u001b[0;32m----> 1\u001b[0;31m \u001b[0mtrain\u001b[0m\u001b[0;34m.\u001b[0m\u001b[0mtrain_pqt_pg\u001b[0m\u001b[0;34m(\u001b[0m\u001b[0mmodel\u001b[0m\u001b[0;34m,\u001b[0m \u001b[0mreverse_reward\u001b[0m\u001b[0;34m)\u001b[0m\u001b[0;34m\u001b[0m\u001b[0m\n\u001b[0m",
      "\u001b[0;32m/Users/Wojtek/Desktop/Studia/Neural Networks/BF_Generator/train.py\u001b[0m in \u001b[0;36mtrain_pqt_pg\u001b[0;34m(model, reward_f, NPE, seq_len, epoch_size, clip_grad_norm)\u001b[0m\n\u001b[1;32m    137\u001b[0m     \u001b[0;32mfor\u001b[0m \u001b[0mi\u001b[0m \u001b[0;32min\u001b[0m \u001b[0mxrange\u001b[0m\u001b[0;34m(\u001b[0m\u001b[0mepoch_num\u001b[0m\u001b[0;34m)\u001b[0m\u001b[0;34m:\u001b[0m\u001b[0;34m\u001b[0m\u001b[0m\n\u001b[1;32m    138\u001b[0m         \u001b[0mmodel\u001b[0m\u001b[0;34m.\u001b[0m\u001b[0mzero_grad\u001b[0m\u001b[0;34m(\u001b[0m\u001b[0;34m)\u001b[0m\u001b[0;34m\u001b[0m\u001b[0m\n\u001b[0;32m--> 139\u001b[0;31m         \u001b[0mPG_objective\u001b[0m \u001b[0;34m=\u001b[0m \u001b[0mobjective_PG\u001b[0m\u001b[0;34m(\u001b[0m\u001b[0mmodel\u001b[0m\u001b[0;34m,\u001b[0m \u001b[0mreward_f\u001b[0m\u001b[0;34m,\u001b[0m \u001b[0mseq_len\u001b[0m\u001b[0;34m,\u001b[0m \u001b[0mepoch_size\u001b[0m\u001b[0;34m)\u001b[0m\u001b[0;34m\u001b[0m\u001b[0m\n\u001b[0m\u001b[1;32m    140\u001b[0m         \u001b[0mPQT_objective\u001b[0m \u001b[0;34m=\u001b[0m \u001b[0mobjective_PQT\u001b[0m\u001b[0;34m(\u001b[0m\u001b[0mmodel\u001b[0m\u001b[0;34m)\u001b[0m\u001b[0;34m\u001b[0m\u001b[0m\n\u001b[1;32m    141\u001b[0m         \u001b[0mentropy\u001b[0m \u001b[0;34m=\u001b[0m \u001b[0mmodel\u001b[0m\u001b[0;34m.\u001b[0m\u001b[0mentropy\u001b[0m\u001b[0;34m\u001b[0m\u001b[0m\n",
      "\u001b[0;32m/Users/Wojtek/Desktop/Studia/Neural Networks/BF_Generator/train.py\u001b[0m in \u001b[0;36mobjective_PG\u001b[0;34m(model, reward_f, predict_len, N)\u001b[0m\n\u001b[1;32m     92\u001b[0m \u001b[0;34m\u001b[0m\u001b[0m\n\u001b[1;32m     93\u001b[0m         \u001b[0;31m# calculate rewards\u001b[0m\u001b[0;34m\u001b[0m\u001b[0;34m\u001b[0m\u001b[0m\n\u001b[0;32m---> 94\u001b[0;31m         \u001b[0mrewards\u001b[0m \u001b[0;34m=\u001b[0m \u001b[0mreward_f\u001b[0m\u001b[0;34m(\u001b[0m\u001b[0mprediction\u001b[0m\u001b[0;34m)\u001b[0m\u001b[0;34m\u001b[0m\u001b[0m\n\u001b[0m\u001b[1;32m     95\u001b[0m         \u001b[0mrewards_mean\u001b[0m \u001b[0;34m=\u001b[0m \u001b[0mrewards\u001b[0m\u001b[0;34m.\u001b[0m\u001b[0mmean\u001b[0m\u001b[0;34m(\u001b[0m\u001b[0;34m)\u001b[0m\u001b[0;34m\u001b[0m\u001b[0m\n\u001b[1;32m     96\u001b[0m         \u001b[0mmodel\u001b[0m\u001b[0;34m.\u001b[0m\u001b[0mbaseline\u001b[0m \u001b[0;34m=\u001b[0m \u001b[0mrewards_mean\u001b[0m \u001b[0;34m*\u001b[0m \u001b[0mmodel\u001b[0m\u001b[0;34m.\u001b[0m\u001b[0mGAMMA\u001b[0m \u001b[0;34m+\u001b[0m \u001b[0;34m(\u001b[0m\u001b[0;36m1\u001b[0m \u001b[0;34m-\u001b[0m \u001b[0mmodel\u001b[0m\u001b[0;34m.\u001b[0m\u001b[0mGAMMA\u001b[0m\u001b[0;34m)\u001b[0m \u001b[0;34m*\u001b[0m \u001b[0mmodel\u001b[0m\u001b[0;34m.\u001b[0m\u001b[0mbaseline\u001b[0m\u001b[0;34m\u001b[0m\u001b[0m\n",
      "\u001b[0;32m/Users/Wojtek/Desktop/Studia/Neural Networks/BF_Generator/train.py\u001b[0m in \u001b[0;36mreward_program\u001b[0;34m(program_code_batch)\u001b[0m\n\u001b[1;32m     30\u001b[0m     \u001b[0mcorrect_reward\u001b[0m \u001b[0;34m=\u001b[0m \u001b[0mscaling_factor\u001b[0m \u001b[0;34m*\u001b[0m \u001b[0msum\u001b[0m\u001b[0;34m(\u001b[0m\u001b[0mS\u001b[0m\u001b[0;34m(\u001b[0m\u001b[0mbf_output\u001b[0m\u001b[0;34m,\u001b[0m \u001b[0mbf_output\u001b[0m\u001b[0;34m)\u001b[0m \u001b[0;32mfor\u001b[0m \u001b[0mbf_output\u001b[0m \u001b[0;32min\u001b[0m \u001b[0mbf_outputs\u001b[0m\u001b[0;34m)\u001b[0m\u001b[0;34m\u001b[0m\u001b[0m\n\u001b[1;32m     31\u001b[0m     \u001b[0;32mdef\u001b[0m \u001b[0mreward_program\u001b[0m\u001b[0;34m(\u001b[0m\u001b[0mprogram_code_batch\u001b[0m\u001b[0;34m)\u001b[0m\u001b[0;34m:\u001b[0m\u001b[0;34m\u001b[0m\u001b[0m\n\u001b[0;32m---> 32\u001b[0;31m         \u001b[0mrewards\u001b[0m \u001b[0;34m=\u001b[0m \u001b[0mnp\u001b[0m\u001b[0;34m.\u001b[0m\u001b[0marray\u001b[0m\u001b[0;34m(\u001b[0m\u001b[0mmap\u001b[0m\u001b[0;34m(\u001b[0m\u001b[0;32mlambda\u001b[0m \u001b[0mx\u001b[0m\u001b[0;34m:\u001b[0m \u001b[0mtotal_reward\u001b[0m\u001b[0;34m(\u001b[0m\u001b[0mx\u001b[0m\u001b[0;34m)\u001b[0m\u001b[0;34m,\u001b[0m \u001b[0mprogram_code_batch\u001b[0m\u001b[0;34m)\u001b[0m\u001b[0;34m)\u001b[0m\u001b[0;34m\u001b[0m\u001b[0m\n\u001b[0m\u001b[1;32m     33\u001b[0m         \u001b[0mmax_reward\u001b[0m \u001b[0;34m=\u001b[0m \u001b[0mmax\u001b[0m\u001b[0;34m(\u001b[0m\u001b[0;36m1e-8\u001b[0m\u001b[0;34m,\u001b[0m \u001b[0mcorrect_reward\u001b[0m\u001b[0;34m)\u001b[0m\u001b[0;34m\u001b[0m\u001b[0m\n\u001b[1;32m     34\u001b[0m         \u001b[0;32mreturn\u001b[0m \u001b[0mnp\u001b[0m\u001b[0;34m.\u001b[0m\u001b[0mvectorize\u001b[0m\u001b[0;34m(\u001b[0m\u001b[0;32mlambda\u001b[0m \u001b[0mx\u001b[0m\u001b[0;34m:\u001b[0m \u001b[0mmax\u001b[0m\u001b[0;34m(\u001b[0m\u001b[0;34m-\u001b[0m\u001b[0;36m1\u001b[0m\u001b[0;34m,\u001b[0m \u001b[0mx\u001b[0m\u001b[0;34m)\u001b[0m\u001b[0;34m)\u001b[0m\u001b[0;34m(\u001b[0m\u001b[0mrewards\u001b[0m \u001b[0;34m/\u001b[0m \u001b[0mmax_reward\u001b[0m\u001b[0;34m)\u001b[0m\u001b[0;34m\u001b[0m\u001b[0m\n",
      "\u001b[0;32m/Users/Wojtek/Desktop/Studia/Neural Networks/BF_Generator/train.py\u001b[0m in \u001b[0;36m<lambda>\u001b[0;34m(x)\u001b[0m\n\u001b[1;32m     30\u001b[0m     \u001b[0mcorrect_reward\u001b[0m \u001b[0;34m=\u001b[0m \u001b[0mscaling_factor\u001b[0m \u001b[0;34m*\u001b[0m \u001b[0msum\u001b[0m\u001b[0;34m(\u001b[0m\u001b[0mS\u001b[0m\u001b[0;34m(\u001b[0m\u001b[0mbf_output\u001b[0m\u001b[0;34m,\u001b[0m \u001b[0mbf_output\u001b[0m\u001b[0;34m)\u001b[0m \u001b[0;32mfor\u001b[0m \u001b[0mbf_output\u001b[0m \u001b[0;32min\u001b[0m \u001b[0mbf_outputs\u001b[0m\u001b[0;34m)\u001b[0m\u001b[0;34m\u001b[0m\u001b[0m\n\u001b[1;32m     31\u001b[0m     \u001b[0;32mdef\u001b[0m \u001b[0mreward_program\u001b[0m\u001b[0;34m(\u001b[0m\u001b[0mprogram_code_batch\u001b[0m\u001b[0;34m)\u001b[0m\u001b[0;34m:\u001b[0m\u001b[0;34m\u001b[0m\u001b[0m\n\u001b[0;32m---> 32\u001b[0;31m         \u001b[0mrewards\u001b[0m \u001b[0;34m=\u001b[0m \u001b[0mnp\u001b[0m\u001b[0;34m.\u001b[0m\u001b[0marray\u001b[0m\u001b[0;34m(\u001b[0m\u001b[0mmap\u001b[0m\u001b[0;34m(\u001b[0m\u001b[0;32mlambda\u001b[0m \u001b[0mx\u001b[0m\u001b[0;34m:\u001b[0m \u001b[0mtotal_reward\u001b[0m\u001b[0;34m(\u001b[0m\u001b[0mx\u001b[0m\u001b[0;34m)\u001b[0m\u001b[0;34m,\u001b[0m \u001b[0mprogram_code_batch\u001b[0m\u001b[0;34m)\u001b[0m\u001b[0;34m)\u001b[0m\u001b[0;34m\u001b[0m\u001b[0m\n\u001b[0m\u001b[1;32m     33\u001b[0m         \u001b[0mmax_reward\u001b[0m \u001b[0;34m=\u001b[0m \u001b[0mmax\u001b[0m\u001b[0;34m(\u001b[0m\u001b[0;36m1e-8\u001b[0m\u001b[0;34m,\u001b[0m \u001b[0mcorrect_reward\u001b[0m\u001b[0;34m)\u001b[0m\u001b[0;34m\u001b[0m\u001b[0m\n\u001b[1;32m     34\u001b[0m         \u001b[0;32mreturn\u001b[0m \u001b[0mnp\u001b[0m\u001b[0;34m.\u001b[0m\u001b[0mvectorize\u001b[0m\u001b[0;34m(\u001b[0m\u001b[0;32mlambda\u001b[0m \u001b[0mx\u001b[0m\u001b[0;34m:\u001b[0m \u001b[0mmax\u001b[0m\u001b[0;34m(\u001b[0m\u001b[0;34m-\u001b[0m\u001b[0;36m1\u001b[0m\u001b[0;34m,\u001b[0m \u001b[0mx\u001b[0m\u001b[0;34m)\u001b[0m\u001b[0;34m)\u001b[0m\u001b[0;34m(\u001b[0m\u001b[0mrewards\u001b[0m \u001b[0;34m/\u001b[0m \u001b[0mmax_reward\u001b[0m\u001b[0;34m)\u001b[0m\u001b[0;34m\u001b[0m\u001b[0m\n",
      "\u001b[0;32m/Users/Wojtek/Desktop/Studia/Neural Networks/BF_Generator/train.py\u001b[0m in \u001b[0;36mtotal_reward\u001b[0;34m(program_code)\u001b[0m\n\u001b[1;32m     24\u001b[0m \u001b[0;34m\u001b[0m\u001b[0m\n\u001b[1;32m     25\u001b[0m     \u001b[0;32mdef\u001b[0m \u001b[0mtotal_reward\u001b[0m\u001b[0;34m(\u001b[0m\u001b[0mprogram_code\u001b[0m\u001b[0;34m)\u001b[0m\u001b[0;34m:\u001b[0m\u001b[0;34m\u001b[0m\u001b[0m\n\u001b[0;32m---> 26\u001b[0;31m         \u001b[0mprogram_outputs\u001b[0m \u001b[0;34m=\u001b[0m \u001b[0mmap\u001b[0m\u001b[0;34m(\u001b[0m\u001b[0;34m(\u001b[0m\u001b[0;32mlambda\u001b[0m \u001b[0mx\u001b[0m\u001b[0;34m:\u001b[0m \u001b[0mbfCompiler\u001b[0m\u001b[0;34m.\u001b[0m\u001b[0mBF\u001b[0m\u001b[0;34m(\u001b[0m\u001b[0mprogram_code\u001b[0m\u001b[0;34m,\u001b[0m \u001b[0mx\u001b[0m\u001b[0;34m)\u001b[0m\u001b[0;34m)\u001b[0m\u001b[0;34m,\u001b[0m \u001b[0mbf_inputs\u001b[0m\u001b[0;34m)\u001b[0m\u001b[0;34m\u001b[0m\u001b[0m\n\u001b[0m\u001b[1;32m     27\u001b[0m         \u001b[0mprogram_outputs\u001b[0m \u001b[0;34m=\u001b[0m \u001b[0mmap\u001b[0m\u001b[0;34m(\u001b[0m\u001b[0;32mlambda\u001b[0m \u001b[0;34m(\u001b[0m\u001b[0mx\u001b[0m\u001b[0;34m,\u001b[0m\u001b[0my\u001b[0m\u001b[0;34m,\u001b[0m\u001b[0mz\u001b[0m\u001b[0;34m)\u001b[0m\u001b[0;34m:\u001b[0m\u001b[0mx\u001b[0m\u001b[0;34m,\u001b[0m \u001b[0mprogram_outputs\u001b[0m\u001b[0;34m)\u001b[0m\u001b[0;34m\u001b[0m\u001b[0m\n\u001b[1;32m     28\u001b[0m         \u001b[0;32mreturn\u001b[0m \u001b[0mscaling_factor\u001b[0m \u001b[0;34m*\u001b[0m \u001b[0msum\u001b[0m\u001b[0;34m(\u001b[0m\u001b[0mS\u001b[0m\u001b[0;34m(\u001b[0m\u001b[0mprogram_output\u001b[0m\u001b[0;34m,\u001b[0m \u001b[0mbf_output\u001b[0m\u001b[0;34m)\u001b[0m \u001b[0;32mfor\u001b[0m \u001b[0mprogram_output\u001b[0m\u001b[0;34m,\u001b[0m \u001b[0mbf_output\u001b[0m \u001b[0;32min\u001b[0m \u001b[0mzip\u001b[0m\u001b[0;34m(\u001b[0m\u001b[0mprogram_outputs\u001b[0m\u001b[0;34m,\u001b[0m \u001b[0mbf_outputs\u001b[0m\u001b[0;34m)\u001b[0m\u001b[0;34m)\u001b[0m\u001b[0;34m\u001b[0m\u001b[0m\n",
      "\u001b[0;32m/Users/Wojtek/Desktop/Studia/Neural Networks/BF_Generator/train.py\u001b[0m in \u001b[0;36m<lambda>\u001b[0;34m(x)\u001b[0m\n\u001b[1;32m     24\u001b[0m \u001b[0;34m\u001b[0m\u001b[0m\n\u001b[1;32m     25\u001b[0m     \u001b[0;32mdef\u001b[0m \u001b[0mtotal_reward\u001b[0m\u001b[0;34m(\u001b[0m\u001b[0mprogram_code\u001b[0m\u001b[0;34m)\u001b[0m\u001b[0;34m:\u001b[0m\u001b[0;34m\u001b[0m\u001b[0m\n\u001b[0;32m---> 26\u001b[0;31m         \u001b[0mprogram_outputs\u001b[0m \u001b[0;34m=\u001b[0m \u001b[0mmap\u001b[0m\u001b[0;34m(\u001b[0m\u001b[0;34m(\u001b[0m\u001b[0;32mlambda\u001b[0m \u001b[0mx\u001b[0m\u001b[0;34m:\u001b[0m \u001b[0mbfCompiler\u001b[0m\u001b[0;34m.\u001b[0m\u001b[0mBF\u001b[0m\u001b[0;34m(\u001b[0m\u001b[0mprogram_code\u001b[0m\u001b[0;34m,\u001b[0m \u001b[0mx\u001b[0m\u001b[0;34m)\u001b[0m\u001b[0;34m)\u001b[0m\u001b[0;34m,\u001b[0m \u001b[0mbf_inputs\u001b[0m\u001b[0;34m)\u001b[0m\u001b[0;34m\u001b[0m\u001b[0m\n\u001b[0m\u001b[1;32m     27\u001b[0m         \u001b[0mprogram_outputs\u001b[0m \u001b[0;34m=\u001b[0m \u001b[0mmap\u001b[0m\u001b[0;34m(\u001b[0m\u001b[0;32mlambda\u001b[0m \u001b[0;34m(\u001b[0m\u001b[0mx\u001b[0m\u001b[0;34m,\u001b[0m\u001b[0my\u001b[0m\u001b[0;34m,\u001b[0m\u001b[0mz\u001b[0m\u001b[0;34m)\u001b[0m\u001b[0;34m:\u001b[0m\u001b[0mx\u001b[0m\u001b[0;34m,\u001b[0m \u001b[0mprogram_outputs\u001b[0m\u001b[0;34m)\u001b[0m\u001b[0;34m\u001b[0m\u001b[0m\n\u001b[1;32m     28\u001b[0m         \u001b[0;32mreturn\u001b[0m \u001b[0mscaling_factor\u001b[0m \u001b[0;34m*\u001b[0m \u001b[0msum\u001b[0m\u001b[0;34m(\u001b[0m\u001b[0mS\u001b[0m\u001b[0;34m(\u001b[0m\u001b[0mprogram_output\u001b[0m\u001b[0;34m,\u001b[0m \u001b[0mbf_output\u001b[0m\u001b[0;34m)\u001b[0m \u001b[0;32mfor\u001b[0m \u001b[0mprogram_output\u001b[0m\u001b[0;34m,\u001b[0m \u001b[0mbf_output\u001b[0m \u001b[0;32min\u001b[0m \u001b[0mzip\u001b[0m\u001b[0;34m(\u001b[0m\u001b[0mprogram_outputs\u001b[0m\u001b[0;34m,\u001b[0m \u001b[0mbf_outputs\u001b[0m\u001b[0;34m)\u001b[0m\u001b[0;34m)\u001b[0m\u001b[0;34m\u001b[0m\u001b[0m\n",
      "\u001b[0;32m/Users/Wojtek/Desktop/Studia/Neural Networks/BF_Generator/bfCompiler.pyc\u001b[0m in \u001b[0;36mBF\u001b[0;34m(code, input_list, ops_limit, max_ops)\u001b[0m\n\u001b[1;32m     96\u001b[0m     \u001b[0mbracemap\u001b[0m \u001b[0;34m=\u001b[0m \u001b[0mbuildbracemap\u001b[0m\u001b[0;34m(\u001b[0m\u001b[0mcode\u001b[0m\u001b[0;34m)\u001b[0m\u001b[0;34m\u001b[0m\u001b[0m\n\u001b[1;32m     97\u001b[0m     output, operations_counter = bfEvaluate(\n\u001b[0;32m---> 98\u001b[0;31m         code, input_list, bracemap, ops_limit, max_ops)\n\u001b[0m\u001b[1;32m     99\u001b[0m     \u001b[0;32mreturn\u001b[0m \u001b[0moutput\u001b[0m\u001b[0;34m,\u001b[0m \u001b[0moperations_counter\u001b[0m\u001b[0;34m,\u001b[0m \u001b[0munmatched_braces\u001b[0m\u001b[0;34m\u001b[0m\u001b[0m\n",
      "\u001b[0;32m/Users/Wojtek/Desktop/Studia/Neural Networks/BF_Generator/bfCompiler.pyc\u001b[0m in \u001b[0;36mbfEvaluate\u001b[0;34m(code, input_list, bracemap, ops_limit, max_ops)\u001b[0m\n\u001b[1;32m     54\u001b[0m \u001b[0;34m\u001b[0m\u001b[0m\n\u001b[1;32m     55\u001b[0m         \u001b[0;32mif\u001b[0m \u001b[0mcommand\u001b[0m \u001b[0;34m==\u001b[0m \u001b[0;34m\"<\"\u001b[0m\u001b[0;34m:\u001b[0m\u001b[0;34m\u001b[0m\u001b[0m\n\u001b[0;32m---> 56\u001b[0;31m             \u001b[0mcell_ptr\u001b[0m \u001b[0;34m=\u001b[0m \u001b[0mmax\u001b[0m\u001b[0;34m(\u001b[0m\u001b[0;36m0\u001b[0m\u001b[0;34m,\u001b[0m \u001b[0mcell_ptr\u001b[0m \u001b[0;34m-\u001b[0m \u001b[0;36m1\u001b[0m\u001b[0;34m)\u001b[0m\u001b[0;34m\u001b[0m\u001b[0m\n\u001b[0m\u001b[1;32m     57\u001b[0m \u001b[0;34m\u001b[0m\u001b[0m\n\u001b[1;32m     58\u001b[0m         \u001b[0;32mif\u001b[0m \u001b[0mcommand\u001b[0m \u001b[0;34m==\u001b[0m \u001b[0;34m\"+\"\u001b[0m\u001b[0;34m:\u001b[0m\u001b[0;34m\u001b[0m\u001b[0m\n",
      "\u001b[0;31mKeyboardInterrupt\u001b[0m: "
     ]
    }
   ],
   "source": [
    "train.train_pqt_pg(model, reverse_reward)"
   ]
  },
  {
   "cell_type": "code",
   "execution_count": 13,
   "metadata": {},
   "outputs": [],
   "source": [
    "expected_code = \"><.><\"\n",
    "program_batch_code = [\".....\", \"..<..\", \"[][][][][[][[][][][][][][]]]\", \"]\"]"
   ]
  },
  {
   "cell_type": "code",
   "execution_count": 14,
   "metadata": {},
   "outputs": [],
   "source": [
    "simple_rew = train.simplified_batch_reward(expected_code)"
   ]
  },
  {
   "cell_type": "code",
   "execution_count": 15,
   "metadata": {},
   "outputs": [
    {
     "data": {
      "text/plain": [
       "array([ 0.996875  ,  0.99609375, -1.        ,  0.19921875])"
      ]
     },
     "execution_count": 15,
     "metadata": {},
     "output_type": "execute_result"
    }
   ],
   "source": [
    "simple_rew(program_batch_code)"
   ]
  },
  {
   "cell_type": "code",
   "execution_count": 16,
   "metadata": {},
   "outputs": [
    {
     "name": "stdout",
     "output_type": "stream",
     "text": [
      "100 >>>..>>>..>>>..>>>..>>>..>>>..>>>..>>>..>>>..>>>..>>>..>>>..>>>..>>>..>>>..>>>..>>>..>>>..>>>..>>>..\n"
     ]
    }
   ],
   "source": [
    "training_expected_code = \">>>..\" * 20\n",
    "print len(training_expected_code),training_expected_code"
   ]
  },
  {
   "cell_type": "code",
   "execution_count": 17,
   "metadata": {},
   "outputs": [
    {
     "data": {
      "text/plain": [
       "array([0.04988281, 0.04988281, 0.27890625, 0.00996094])"
      ]
     },
     "execution_count": 17,
     "metadata": {},
     "output_type": "execute_result"
    }
   ],
   "source": [
    "training_rew = train.simplified_batch_reward(training_expected_code)\n",
    "training_rew(program_batch_code)"
   ]
  },
  {
   "cell_type": "code",
   "execution_count": 48,
   "metadata": {},
   "outputs": [],
   "source": [
    "def ultra_simple_rew(expected_code):\n",
    "    def hamming_distance(seq1, seq2):\n",
    "        assert len(seq1) == len(seq2)\n",
    "        return sum(elem1 != elem2 for elem1, elem2 in zip(seq1, seq2))\n",
    "    \n",
    "    code_len = float(len(expected_code))\n",
    "    def reward_code(generated_code_batch):\n",
    "        rewards = np.array(map(lambda x: 1 - (hamming_distance(x, expected_code) / code_len), generated_code_batch))\n",
    "        return rewards\n",
    "    return reward_code"
   ]
  },
  {
   "cell_type": "code",
   "execution_count": 49,
   "metadata": {},
   "outputs": [],
   "source": [
    "simple_rew = ultra_simple_rew(training_expected_code)\n",
    "sample1 = \">\" * 100\n",
    "sample2 = \".\" * 100\n",
    "sample3 = \"[]\" * 50\n",
    "sample4 = \"[]><+-.,[]\"  * 10\n",
    "samples = [sample1, sample2, sample3, sample4]"
   ]
  },
  {
   "cell_type": "code",
   "execution_count": 50,
   "metadata": {},
   "outputs": [
    {
     "data": {
      "text/plain": [
       "array([0.6, 0.4, 0. , 0.1])"
      ]
     },
     "execution_count": 50,
     "metadata": {},
     "output_type": "execute_result"
    }
   ],
   "source": [
    "simple_rew(samples)"
   ]
  },
  {
   "cell_type": "code",
   "execution_count": null,
   "metadata": {},
   "outputs": [
    {
     "name": "stdout",
     "output_type": "stream",
     "text": [
      "Epoch Obj  Sample\n",
      "----- ----- ------\n",
      "Variable containing:\n",
      "1.00000e-05 *\n",
      " -6.2562\n",
      "[torch.FloatTensor of size 1]\n",
      "\n",
      "Variable containing:\n",
      "-208.0049\n",
      "[torch.FloatTensor of size 1]\n",
      "\n",
      "Variable containing:\n",
      "1.00000e+05 *\n",
      "  2.0910\n",
      "[torch.FloatTensor of size 1]\n",
      "\n",
      "0.1087953031132618\n",
      "   0  -8309.292 [-.],.>>.--<].>,,+.,[<,][[>-...<>[-]><>,>.,><++],<>++][,[.>]]<]]..[[,.>>+.+><---+>,--<+>+-..+-].><<,\n",
      "Variable containing:\n",
      "1.00000e-05 *\n",
      "  3.4821\n",
      "[torch.FloatTensor of size 1]\n",
      "\n",
      "Variable containing:\n",
      "-208.3246\n",
      "[torch.FloatTensor of size 1]\n",
      "\n",
      "Variable containing:\n",
      "1.00000e+05 *\n",
      "  2.0907\n",
      "[torch.FloatTensor of size 1]\n",
      "\n",
      "0.12866242956762375\n",
      "   1  -8325.495 +<]..-]>+.]+][-><--,+[+<->]+>,->,<-+-->,>[+[[]<++,-]>..]+,.]+,--.<-,.+--..,.>+.<>.-]>-<,[.>.[.--<,[]\n",
      "Variable containing:\n",
      "1.00000e-04 *\n",
      " -6.8864\n",
      "[torch.FloatTensor of size 1]\n",
      "\n",
      "Variable containing:\n",
      "-208.4626\n",
      "[torch.FloatTensor of size 1]\n",
      "\n",
      "Variable containing:\n",
      "1.00000e+05 *\n",
      "  2.0902\n",
      "[torch.FloatTensor of size 1]\n",
      "\n",
      "0.11700458187524185\n",
      "   2  -8332.931 +[->+->[.>>[,].>,>]][.[>[[<>->>[>[]][[+[>.+]<>[>+>>>>-]>+-<+.-+,+>>[,+[>++-+]]].[[.+.+-,<]>+.>.[].>-\n",
      "Variable containing:\n",
      "1.00000e-04 *\n",
      " -4.8308\n",
      "[torch.FloatTensor of size 1]\n",
      "\n",
      "Variable containing:\n",
      "-208.6458\n",
      "[torch.FloatTensor of size 1]\n",
      "\n",
      "Variable containing:\n",
      "1.00000e+05 *\n",
      "  2.0900\n",
      "[torch.FloatTensor of size 1]\n",
      "\n",
      "0.12122952563767507\n",
      "   3  -8342.324 ]<-.+][>..<]>-.-]--[<,[>]--,+][+><,--+[++-]>,,]>>-[+-,<>>><.>.,[+<>,-[>[,.>>-<[>-+]-.>.-]<[><->>-+..\n",
      "Variable containing:\n",
      "1.00000e-03 *\n",
      " -2.9646\n",
      "[torch.FloatTensor of size 1]\n",
      "\n",
      "Variable containing:\n",
      "-208.4489\n",
      "[torch.FloatTensor of size 1]\n",
      "\n",
      "Variable containing:\n",
      "1.00000e+05 *\n",
      "  2.0896\n",
      "[torch.FloatTensor of size 1]\n",
      "\n",
      "0.12363162436330812\n",
      "   4  -8332.799 ][..[.-+,+-+-.[,[-.,.>>]+.]+..>+<<>[[>><>]-.><,+,]..-<<,-[.[>>,<,<<[><,>>]->],]-[.>]>+.>+.[]+..,<.++\n",
      "Variable containing:\n",
      "1.00000e-03 *\n",
      " -1.1799\n",
      "[torch.FloatTensor of size 1]\n",
      "\n",
      "Variable containing:\n",
      "-208.8045\n",
      "[torch.FloatTensor of size 1]\n",
      "\n",
      "Variable containing:\n",
      "1.00000e+05 *\n",
      "  2.0892\n",
      "[torch.FloatTensor of size 1]\n",
      "\n",
      "0.1304319913940743\n",
      "   5  -8351.041 [>,.-<[[>.>,>[+[<][<....>>[<.<<[++-+>[]]>-<+[+<[.>>,>,->,><,.><].,<<[,]+-.,.,,[<,+[<.,>-,+[-,-->>>[>\n",
      "Variable containing:\n",
      "1.00000e-04 *\n",
      "  4.9792\n",
      "[torch.FloatTensor of size 1]\n",
      "\n",
      "Variable containing:\n",
      "-208.9198\n",
      "[torch.FloatTensor of size 1]\n",
      "\n",
      "Variable containing:\n",
      "1.00000e+05 *\n",
      "  2.0889\n",
      "[torch.FloatTensor of size 1]\n",
      "\n",
      "0.12814325425002226\n",
      "   6  -8357.047 [>,.-<[[>.>,>[+[<][<....>>[<.<<[++-+>[]]>-<+[+<[.>>,>,->,><,.><].,<<[,]+-.,.,,[<,+[<.,>-,+[-,-->>>[>\n",
      "Variable containing:\n",
      "1.00000e-04 *\n",
      "  1.7964\n",
      "[torch.FloatTensor of size 1]\n",
      "\n",
      "Variable containing:\n",
      "-209.0407\n",
      "[torch.FloatTensor of size 1]\n",
      "\n",
      "Variable containing:\n",
      "1.00000e+05 *\n",
      "  2.0885\n",
      "[torch.FloatTensor of size 1]\n",
      "\n",
      "0.1249638020605571\n",
      "   7  -8363.556 [>,.-<[[>.>,>[+[<][<....>>[<.<<[++-+>[]]>-<+[+<[.>>,>,->,><,.><].,<<[,]+-.,.,,[<,+[<.,>-,+[-,-->>>[>\n",
      "Variable containing:\n",
      "1.00000e-03 *\n",
      "  2.4587\n",
      "[torch.FloatTensor of size 1]\n",
      "\n",
      "Variable containing:\n",
      "-209.1965\n",
      "[torch.FloatTensor of size 1]\n",
      "\n",
      "Variable containing:\n",
      "1.00000e+05 *\n",
      "  2.0881\n",
      "[torch.FloatTensor of size 1]\n",
      "\n",
      "0.11384993382944505\n",
      "   8  -8371.732 .>]].[],[],.><[+>,.-<>-]][[.,[<<[++>[.<,<[-.-+---[-><+.[<,>],>>.,-][.-.->[.--<.]>.>.,+.-[[[,>+,<>>+>\n",
      "Variable containing:\n",
      "1.00000e-04 *\n",
      "  8.7285\n",
      "[torch.FloatTensor of size 1]\n",
      "\n",
      "Variable containing:\n",
      "-209.3013\n",
      "[torch.FloatTensor of size 1]\n",
      "\n",
      "Variable containing:\n",
      "1.00000e+05 *\n",
      "  2.0877\n",
      "[torch.FloatTensor of size 1]\n",
      "\n",
      "0.11310163359504519\n",
      "   9  -8377.396 .>]].[],[],.><[+>,.-<>-]][[.,[<<[++>[.<,<[-.-+---[-><+.[<,>],>>.,-][.-.->[.--<.]>.>.,+.-[[[,>+,<>>+>\n",
      "Variable containing:\n",
      "1.00000e-03 *\n",
      "  1.0455\n",
      "[torch.FloatTensor of size 1]\n",
      "\n",
      "Variable containing:\n",
      "-209.4706\n",
      "[torch.FloatTensor of size 1]\n",
      "\n",
      "Variable containing:\n",
      "1.00000e+05 *\n",
      "  2.0872\n",
      "[torch.FloatTensor of size 1]\n",
      "\n",
      "0.11881194377073619\n",
      "  10  -8386.346 [>-..>--],[,,<+>+[[]<.>.].>,.-[->]]>[.+<>]+<,[<.+,>++><+],,<<].+]>+.+>>>>-<<-+.+<<<,>->]..[>-<>><>>[\n"
     ]
    }
   ],
   "source": [
    "train.train_pqt_pg(model, simple_rew)"
   ]
  },
  {
   "cell_type": "code",
   "execution_count": null,
   "metadata": {},
   "outputs": [],
   "source": []
  }
 ],
 "metadata": {
  "kernelspec": {
   "display_name": "Python 2",
   "language": "python",
   "name": "python2"
  },
  "language_info": {
   "codemirror_mode": {
    "name": "ipython",
    "version": 2
   },
   "file_extension": ".py",
   "mimetype": "text/x-python",
   "name": "python",
   "nbconvert_exporter": "python",
   "pygments_lexer": "ipython2",
   "version": "2.7.13"
  }
 },
 "nbformat": 4,
 "nbformat_minor": 2
}
