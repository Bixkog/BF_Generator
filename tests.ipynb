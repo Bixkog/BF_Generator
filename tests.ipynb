{
 "cells": [
  {
   "cell_type": "code",
   "execution_count": 1,
   "metadata": {},
   "outputs": [],
   "source": [
    "import numpy as np\n",
    "import torch\n",
    "import torch.nn as nn\n",
    "from torch.autograd import Variable\n",
    "\n",
    "import rnn\n",
    "import train"
   ]
  },
  {
   "cell_type": "code",
   "execution_count": null,
   "metadata": {},
   "outputs": [],
   "source": []
  },
  {
   "cell_type": "code",
   "execution_count": 2,
   "metadata": {},
   "outputs": [],
   "source": [
    "embedding_size = 10\n",
    "hidden_size = 35\n",
    "output_size = len(rnn.char.keys())\n",
    "n_layers = 2\n",
    "batch_size = 16\n",
    "GAMMA = 0.99 # for exponential moving avarage constant from paper\n",
    "\n",
    "\n"
   ]
  },
  {
   "cell_type": "code",
   "execution_count": 3,
   "metadata": {},
   "outputs": [
    {
     "name": "stdout",
     "output_type": "stream",
     "text": [
      "9\n"
     ]
    }
   ],
   "source": [
    "print(rnn.token_num)"
   ]
  },
  {
   "cell_type": "code",
   "execution_count": 4,
   "metadata": {},
   "outputs": [],
   "source": [
    "model = rnn.BFgen(rnn.token_num, embedding_size, hidden_size, output_size, n_layers, batch_size)"
   ]
  },
  {
   "cell_type": "code",
   "execution_count": 5,
   "metadata": {
    "scrolled": true
   },
   "outputs": [
    {
     "name": "stdout",
     "output_type": "stream",
     "text": [
      "Variable containing:\n",
      "\n",
      "Columns 0 to 12 \n",
      "    8     8     8     8     8     8     8     8     8     8     8     8     8\n",
      "\n",
      "Columns 13 to 15 \n",
      "    8     8     8\n",
      "[torch.LongTensor of size 1x16]\n",
      "\n"
     ]
    }
   ],
   "source": [
    "progs, probs = rnn.evaluate(model, 5, 10.0)"
   ]
  },
  {
   "cell_type": "code",
   "execution_count": 6,
   "metadata": {},
   "outputs": [
    {
     "name": "stdout",
     "output_type": "stream",
     "text": [
      "['][[[[', '][[[[', '[[[[[', '[[[[[', '[[[[[', '[[[[[', '[[[[[', '][[[[', '[[[[[', ']][[[', ']][[[', '[[[[[', '][[[[', '[[[[[', '[[[[[', ']][[[']\n"
     ]
    }
   ],
   "source": [
    "print(progs)"
   ]
  },
  {
   "cell_type": "code",
   "execution_count": null,
   "metadata": {},
   "outputs": [],
   "source": []
  },
  {
   "cell_type": "code",
   "execution_count": null,
   "metadata": {},
   "outputs": [],
   "source": []
  },
  {
   "cell_type": "code",
   "execution_count": 7,
   "metadata": {},
   "outputs": [
    {
     "name": "stdout",
     "output_type": "stream",
     "text": [
      "Variable containing:\n",
      " 0.1450\n",
      "[torch.FloatTensor of size 1]\n",
      "\n"
     ]
    },
    {
     "name": "stderr",
     "output_type": "stream",
     "text": [
      "/usr/local/lib/python2.7/dist-packages/torch/autograd/_functions/basic_ops.py:15: UserWarning: other is not broadcastable to self, but they have the same number of elements.  Falling back to deprecated pointwise behavior.\n",
      "  return a.add_(b)\n"
     ]
    }
   ],
   "source": [
    "print(train.objective_PG(model, lambda x : 1, N=16))"
   ]
  },
  {
   "cell_type": "code",
   "execution_count": 8,
   "metadata": {},
   "outputs": [
    {
     "name": "stdout",
     "output_type": "stream",
     "text": [
      "Variable containing:\n",
      "( 0 ,.,.) = \n",
      "  0.1315  0.1316  0.1316  ...   0.1312  0.1312  0.1313\n",
      "  0.1320  0.1320  0.1320  ...   0.1318  0.1319  0.1319\n",
      "  0.1332  0.1333  0.1328  ...   0.1331  0.1328  0.1332\n",
      "           ...             ⋱             ...          \n",
      "  0.1379  0.1379  0.1379  ...   0.1379  0.1379  0.1379\n",
      "  0.1379  0.1379  0.1379  ...   0.1379  0.1379  0.1379\n",
      "  0.1379  0.1379  0.1379  ...   0.1379  0.1379  0.1379\n",
      "\n",
      "( 1 ,.,.) = \n",
      "  0.1098  0.1097  0.1096  ...   0.1097  0.1094  0.1096\n",
      "  0.1103  0.1101  0.1089  ...   0.1101  0.1088  0.1102\n",
      "  0.1118  0.1117  0.1102  ...   0.1117  0.1101  0.1118\n",
      "           ...             ⋱             ...          \n",
      "  0.1171  0.1171  0.1171  ...   0.1171  0.1171  0.1171\n",
      "  0.1171  0.1171  0.1171  ...   0.1171  0.1171  0.1171\n",
      "  0.1171  0.1171  0.1171  ...   0.1171  0.1171  0.1171\n",
      "\n",
      "( 2 ,.,.) = \n",
      "  0.1532  0.1531  0.1532  ...   0.1531  0.1533  0.1528\n",
      "  0.1523  0.1522  0.1528  ...   0.1520  0.1528  0.1519\n",
      "  0.1506  0.1505  0.1514  ...   0.1504  0.1514  0.1504\n",
      "           ...             ⋱             ...          \n",
      "  0.1446  0.1446  0.1446  ...   0.1446  0.1446  0.1446\n",
      "  0.1446  0.1446  0.1446  ...   0.1446  0.1446  0.1446\n",
      "  0.1446  0.1446  0.1446  ...   0.1446  0.1446  0.1446\n",
      "... \n",
      "\n",
      "( 5 ,.,.) = \n",
      "  0.1260  0.1263  0.1262  ...   0.1258  0.1263  0.1263\n",
      "  0.1281  0.1283  0.1288  ...   0.1281  0.1288  0.1283\n",
      "  0.1291  0.1293  0.1295  ...   0.1291  0.1295  0.1292\n",
      "           ...             ⋱             ...          \n",
      "  0.1310  0.1310  0.1310  ...   0.1310  0.1310  0.1310\n",
      "  0.1310  0.1310  0.1310  ...   0.1310  0.1310  0.1310\n",
      "  0.1310  0.1310  0.1310  ...   0.1310  0.1310  0.1310\n",
      "\n",
      "( 6 ,.,.) = \n",
      "  0.1148  0.1150  0.1149  ...   0.1151  0.1152  0.1149\n",
      "  0.1124  0.1126  0.1125  ...   0.1127  0.1126  0.1125\n",
      "  0.1107  0.1108  0.1109  ...   0.1109  0.1109  0.1108\n",
      "           ...             ⋱             ...          \n",
      "  0.1085  0.1085  0.1085  ...   0.1085  0.1085  0.1085\n",
      "  0.1085  0.1085  0.1085  ...   0.1085  0.1085  0.1085\n",
      "  0.1085  0.1085  0.1085  ...   0.1085  0.1085  0.1085\n",
      "\n",
      "( 7 ,.,.) = \n",
      "  0.1155  0.1154  0.1156  ...   0.1157  0.1157  0.1158\n",
      "  0.1158  0.1157  0.1170  ...   0.1159  0.1170  0.1159\n",
      "  0.1153  0.1153  0.1169  ...   0.1154  0.1170  0.1154\n",
      "           ...             ⋱             ...          \n",
      "  0.1132  0.1132  0.1132  ...   0.1132  0.1132  0.1132\n",
      "  0.1132  0.1132  0.1132  ...   0.1132  0.1132  0.1132\n",
      "  0.1132  0.1132  0.1132  ...   0.1132  0.1132  0.1132\n",
      "[torch.FloatTensor of size 8x100x10]\n",
      "\n"
     ]
    }
   ],
   "source": [
    "print(train.objective_PQT(model))"
   ]
  },
  {
   "cell_type": "code",
   "execution_count": null,
   "metadata": {},
   "outputs": [],
   "source": []
  },
  {
   "cell_type": "code",
   "execution_count": 9,
   "metadata": {},
   "outputs": [],
   "source": [
    "bfAdd = \",>++++++[<-------->-],[<+>-]<.\"\n",
    "bfAdd2 = \",>++++++[<-------->-],[<+>-]<+.\"\n",
    "bfAdd3 = \",>++++++[<-------->-],[<+>-]<++.\"\n",
    "bfAdd4 = \",>++++++[<-------->-],[<+>-]<+++.\"\n",
    "addBatch = [bfAdd, bfAdd2, bfAdd3, bfAdd4]\n",
    "bfAddIn = ['11', '12', '23']\n",
    "bfAddOut = ['2','3','5']"
   ]
  },
  {
   "cell_type": "code",
   "execution_count": 10,
   "metadata": {},
   "outputs": [],
   "source": [
    "reward = train.batch_reward(bfAddIn, bfAddOut, len(addBatch))"
   ]
  },
  {
   "cell_type": "code",
   "execution_count": 11,
   "metadata": {},
   "outputs": [
    {
     "data": {
      "text/plain": [
       "array([-76.8, -77.1, -77.1, -77.1])"
      ]
     },
     "execution_count": 11,
     "metadata": {},
     "output_type": "execute_result"
    }
   ],
   "source": [
    "reward(addBatch)"
   ]
  },
  {
   "cell_type": "code",
   "execution_count": null,
   "metadata": {},
   "outputs": [],
   "source": []
  }
 ],
 "metadata": {
  "kernelspec": {
   "display_name": "Python 2",
   "language": "python",
   "name": "python2"
  },
  "language_info": {
   "codemirror_mode": {
    "name": "ipython",
    "version": 2
   },
   "file_extension": ".py",
   "mimetype": "text/x-python",
   "name": "python",
   "nbconvert_exporter": "python",
   "pygments_lexer": "ipython2",
   "version": "2.7.12"
  }
 },
 "nbformat": 4,
 "nbformat_minor": 2
}
