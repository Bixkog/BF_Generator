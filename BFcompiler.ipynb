{
 "cells": [
  {
   "cell_type": "code",
   "execution_count": 13,
   "metadata": {},
   "outputs": [],
   "source": [
    "def parse(code):\n",
    "    return filter(lambda x: x in ['.', ',', '[', ']', '<', '>', '+', '-'], code)"
   ]
  },
  {
   "cell_type": "code",
   "execution_count": 24,
   "metadata": {},
   "outputs": [],
   "source": [
    "def buildbracemap(code):\n",
    "    bracestack, bracemap = [], {}\n",
    "\n",
    "    for position, command in enumerate(code):\n",
    "        if command == \"[\": \n",
    "            bracestack.append(position)\n",
    "        if command == \"]\":\n",
    "            start = bracestack.pop()\n",
    "            bracemap[start] = position\n",
    "            bracemap[position] = start\n",
    "    return bracemap"
   ]
  },
  {
   "cell_type": "code",
   "execution_count": 59,
   "metadata": {},
   "outputs": [],
   "source": [
    "def bfEvaluate(code, input_list, bracemap):\n",
    "    code     = cleanup(list(code))\n",
    "    bracemap = buildbracemap(code)\n",
    "\n",
    "    \n",
    "    code_ptr = cell_ptr = input_ptr = 0\n",
    "    \n",
    "    cells_num = 30000\n",
    "    cells = [0] * cells_num\n",
    "    \n",
    "    while code_ptr < len(code):\n",
    "        command = code[code_ptr]\n",
    "\n",
    "        if command == \">\":\n",
    "            cell_ptr = cell_ptr + 1 if cell_ptr + 1 < cells_num else 0\n",
    "            \n",
    "        if command == \"<\":\n",
    "            cell_ptr = max(0, cell_ptr - 1)\n",
    "\n",
    "        if command == \"+\":\n",
    "            cells[cell_ptr] = cells[cell_ptr] + 1 if cells[cell_ptr] < 255 else 0\n",
    "\n",
    "        if command == \"-\":\n",
    "            cells[cell_ptr] = cells[cell_ptr] - 1 if cells[cell_ptr] > 0 else 255\n",
    "\n",
    "        if command == \"[\" and cells[cell_ptr] == 0: code_ptr = bracemap[code_ptr]\n",
    "        if command == \"]\" and cells[cell_ptr] != 0: code_ptr = bracemap[code_ptr]\n",
    "        \n",
    "        if command == \".\": print(chr(cells[cell_ptr]))\n",
    "        if command == \",\": \n",
    "            cells[cell_ptr] = ord(input_list[input_ptr])\n",
    "            input_ptr += 1\n",
    "      \n",
    "        code_ptr += 1"
   ]
  },
  {
   "cell_type": "code",
   "execution_count": 60,
   "metadata": {},
   "outputs": [],
   "source": [
    "def BF(code, input_list=''):\n",
    "    '''\n",
    "        compiler of BF code\n",
    "        input:\n",
    "            code (string): BF code\n",
    "            input_list (string): input for code if needed \n",
    "    '''\n",
    "    code     = cleanup(list(code))\n",
    "    bracemap = buildbracemap(code)\n",
    "    bfEvaluate(code, input_list, bracemap)"
   ]
  },
  {
   "cell_type": "code",
   "execution_count": 61,
   "metadata": {},
   "outputs": [],
   "source": [
    "bfAdd = \",>++++++[<-------->-],[<+>-]<.\"\n",
    "bfAddInput = '43'"
   ]
  },
  {
   "cell_type": "code",
   "execution_count": 66,
   "metadata": {},
   "outputs": [],
   "source": [
    "bfHelloWorld = \"\"\"++++++++++\n",
    "[\n",
    ">+++++++>++++++++++>+++>+<<<<-\n",
    "] \n",
    ">++.               print 'H'\n",
    ">+.                print 'e'\n",
    "+++++++.           print 'l'\n",
    ".                  print 'l'\n",
    "+++.               print 'o'\n",
    ">++.               space\n",
    "<<+++++++++++++++. print 'W'\n",
    ">.                 print 'o'\n",
    "+++.               print 'r'\n",
    "------.            print 'l'\n",
    "--------.          print 'd'\n",
    ">+.                print '!'\n",
    ">.                 new line\"\"\""
   ]
  },
  {
   "cell_type": "code",
   "execution_count": null,
   "metadata": {
    "scrolled": true
   },
   "outputs": [],
   "source": [
    "BF(bfAdd, bfAddInput)"
   ]
  },
  {
   "cell_type": "code",
   "execution_count": null,
   "metadata": {},
   "outputs": [],
   "source": [
    "BF(bfHelloWorld)"
   ]
  }
 ],
 "metadata": {
  "kernelspec": {
   "display_name": "Python 2",
   "language": "python",
   "name": "python2"
  },
  "language_info": {
   "codemirror_mode": {
    "name": "ipython",
    "version": 2
   },
   "file_extension": ".py",
   "mimetype": "text/x-python",
   "name": "python",
   "nbconvert_exporter": "python",
   "pygments_lexer": "ipython2",
   "version": "2.7.13"
  }
 },
 "nbformat": 4,
 "nbformat_minor": 2
}
